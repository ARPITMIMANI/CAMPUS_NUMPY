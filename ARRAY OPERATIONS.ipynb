{
 "cells": [
  {
   "cell_type": "code",
   "execution_count": 1,
   "id": "e63c2b62",
   "metadata": {},
   "outputs": [
    {
     "name": "stdout",
     "output_type": "stream",
     "text": [
      "[ 66  76  86  96 106 116 126 136]\n"
     ]
    }
   ],
   "source": [
    "import numpy as np\n",
    "aa = np.array ([54,60,66,72,78,84,90,96])\n",
    "bb = np.array ([12,16,20,24,28,32,36,40])\n",
    "print ( aa + bb )"
   ]
  },
  {
   "cell_type": "code",
   "execution_count": 2,
   "id": "7b4a2b7a",
   "metadata": {},
   "outputs": [
    {
     "name": "stdout",
     "output_type": "stream",
     "text": [
      "[ 648  960 1320 1728 2184 2688 3240 3840]\n"
     ]
    }
   ],
   "source": [
    "aa = np.array ([54,60,66,72,78,84,90,96])\n",
    "bb = np.array ([12,16,20,24,28,32,36,40])\n",
    "print ( aa * bb )"
   ]
  },
  {
   "cell_type": "code",
   "execution_count": 3,
   "id": "b92ad2c9",
   "metadata": {},
   "outputs": [
    {
     "name": "stdout",
     "output_type": "stream",
     "text": [
      "[42 44 46 48 50 52 54 56]\n"
     ]
    }
   ],
   "source": [
    "aa = np.array ([54,60,66,72,78,84,90,96])\n",
    "bb = np.array ([12,16,20,24,28,32,36,40])\n",
    "print ( aa - bb )"
   ]
  },
  {
   "cell_type": "code",
   "execution_count": 4,
   "id": "a199007d",
   "metadata": {},
   "outputs": [
    {
     "name": "stdout",
     "output_type": "stream",
     "text": [
      "[-42 -44 -46 -48 -50 -52 -54 -56]\n"
     ]
    }
   ],
   "source": [
    "aa = np.array ([54,60,66,72,78,84,90,96])\n",
    "bb = np.array ([12,16,20,24,28,32,36,40])\n",
    "print ( bb - aa )"
   ]
  },
  {
   "cell_type": "code",
   "execution_count": 5,
   "id": "eca1ed98",
   "metadata": {},
   "outputs": [
    {
     "name": "stdout",
     "output_type": "stream",
     "text": [
      "[162 180 198 216 234 252 270 288]\n"
     ]
    }
   ],
   "source": [
    "aa = np.array ([54,60,66,72,78,84,90,96])\n",
    "print ( aa * 3 )"
   ]
  },
  {
   "cell_type": "code",
   "execution_count": 6,
   "id": "cc8a2a2e",
   "metadata": {},
   "outputs": [
    {
     "name": "stdout",
     "output_type": "stream",
     "text": [
      "[ 1728  4096  8000 13824 21952 32768 46656 64000]\n"
     ]
    }
   ],
   "source": [
    "bb = np.array ([12,16,20,24,28,32,36,40])\n",
    "print ( bb ** 3 )"
   ]
  },
  {
   "cell_type": "code",
   "execution_count": 7,
   "id": "61c97ced",
   "metadata": {},
   "outputs": [
    {
     "name": "stdout",
     "output_type": "stream",
     "text": [
      "[False False False False  True  True  True  True]\n"
     ]
    }
   ],
   "source": [
    "aa = np.array ([54,60,66,72,78,84,90,96])\n",
    "print ( aa > 74 )"
   ]
  },
  {
   "cell_type": "code",
   "execution_count": 8,
   "id": "a2e2ddd0",
   "metadata": {},
   "outputs": [
    {
     "name": "stdout",
     "output_type": "stream",
     "text": [
      "[ True  True  True  True False False False False]\n"
     ]
    }
   ],
   "source": [
    "bb = np.array ([12,16,20,24,28,32,36,40])\n",
    "print ( bb < 26 )"
   ]
  },
  {
   "cell_type": "code",
   "execution_count": 9,
   "id": "253913c7",
   "metadata": {},
   "outputs": [
    {
     "name": "stdout",
     "output_type": "stream",
     "text": [
      "[False False False  True  True  True  True  True]\n"
     ]
    }
   ],
   "source": [
    "aa = np.array ([54,60,66,72,78,84,90,96])\n",
    "print ( aa >= 72 )"
   ]
  },
  {
   "cell_type": "code",
   "execution_count": 10,
   "id": "1150fa04",
   "metadata": {},
   "outputs": [
    {
     "name": "stdout",
     "output_type": "stream",
     "text": [
      "[ True  True  True  True  True False False False]\n"
     ]
    }
   ],
   "source": [
    "bb = np.array ([12,16,20,24,28,32,36,40])\n",
    "print ( bb <= 28 )"
   ]
  },
  {
   "cell_type": "code",
   "execution_count": 11,
   "id": "2427b1ac",
   "metadata": {},
   "outputs": [
    {
     "name": "stdout",
     "output_type": "stream",
     "text": [
      "[[31 32 33]\n",
      " [34 35 36]]\n"
     ]
    }
   ],
   "source": [
    "cc = np.arange(31,37).reshape(2,3)\n",
    "print(cc)"
   ]
  },
  {
   "cell_type": "code",
   "execution_count": 12,
   "id": "6ed02c98",
   "metadata": {},
   "outputs": [
    {
     "name": "stdout",
     "output_type": "stream",
     "text": [
      "[[37 38]\n",
      " [39 40]\n",
      " [41 42]]\n"
     ]
    }
   ],
   "source": [
    "dd = np.arange(37,43).reshape(3,2)\n",
    "print(dd)"
   ]
  },
  {
   "cell_type": "code",
   "execution_count": 13,
   "id": "701c1641",
   "metadata": {},
   "outputs": [
    {
     "name": "stdout",
     "output_type": "stream",
     "text": [
      "[[3748 3844]\n",
      " [4099 4204]]\n"
     ]
    }
   ],
   "source": [
    "cc = np.arange(31,37).reshape(2,3)\n",
    "dd = np.arange(37,43).reshape(3,2)\n",
    "\n",
    "print ( cc.dot(dd) )"
   ]
  },
  {
   "cell_type": "code",
   "execution_count": 14,
   "id": "2abef4c2",
   "metadata": {},
   "outputs": [
    {
     "name": "stdout",
     "output_type": "stream",
     "text": [
      "[[2439 2514 2589]\n",
      " [2569 2648 2727]\n",
      " [2699 2782 2865]]\n"
     ]
    }
   ],
   "source": [
    "cc = np.arange(31,37).reshape(2,3)\n",
    "dd = np.arange(37,43).reshape(3,2)\n",
    "\n",
    "print ( dd.dot(cc) )"
   ]
  },
  {
   "cell_type": "code",
   "execution_count": 15,
   "id": "7c221f55",
   "metadata": {},
   "outputs": [
    {
     "name": "stdout",
     "output_type": "stream",
     "text": [
      "[[37 38 39 40 41 42 43 44]\n",
      " [45 46 47 48 49 50 51 52]\n",
      " [53 54 55 56 57 58 59 60]\n",
      " [61 62 63 64 65 66 67 68]\n",
      " [69 70 71 72 73 74 75 76]\n",
      " [77 78 79 80 81 82 83 84]]\n"
     ]
    }
   ],
   "source": [
    "ee = np.arange(37,85).reshape(6,8)\n",
    "print(ee)"
   ]
  },
  {
   "cell_type": "code",
   "execution_count": 16,
   "id": "a107346e",
   "metadata": {},
   "outputs": [
    {
     "name": "stdout",
     "output_type": "stream",
     "text": [
      "37\n"
     ]
    }
   ],
   "source": [
    "ee = np.arange(37,85).reshape(6,8)\n",
    "print ( ee.min() )"
   ]
  },
  {
   "cell_type": "code",
   "execution_count": 17,
   "id": "4556ec6f",
   "metadata": {},
   "outputs": [
    {
     "name": "stdout",
     "output_type": "stream",
     "text": [
      "84\n"
     ]
    }
   ],
   "source": [
    "ee = np.arange(37,85).reshape(6,8)\n",
    "print ( ee.max() )"
   ]
  },
  {
   "cell_type": "code",
   "execution_count": 18,
   "id": "edf4564b",
   "metadata": {},
   "outputs": [
    {
     "name": "stdout",
     "output_type": "stream",
     "text": [
      "[37 38 39 40 41 42 43 44]\n"
     ]
    }
   ],
   "source": [
    "ee = np.arange(37,85).reshape(6,8)\n",
    "print ( ee.min(axis=0) )"
   ]
  },
  {
   "cell_type": "code",
   "execution_count": 19,
   "id": "7f2efe6f",
   "metadata": {},
   "outputs": [
    {
     "name": "stdout",
     "output_type": "stream",
     "text": [
      "[37 45 53 61 69 77]\n"
     ]
    }
   ],
   "source": [
    "ee = np.arange(37,85).reshape(6,8)\n",
    "print ( ee.min(axis=1) )"
   ]
  },
  {
   "cell_type": "code",
   "execution_count": 20,
   "id": "a33febe6",
   "metadata": {},
   "outputs": [
    {
     "name": "stdout",
     "output_type": "stream",
     "text": [
      "[77 78 79 80 81 82 83 84]\n"
     ]
    }
   ],
   "source": [
    "ee = np.arange(37,85).reshape(6,8)\n",
    "print ( ee.max(axis=0) )"
   ]
  },
  {
   "cell_type": "code",
   "execution_count": 21,
   "id": "a8f4bac1",
   "metadata": {},
   "outputs": [
    {
     "name": "stdout",
     "output_type": "stream",
     "text": [
      "[44 52 60 68 76 84]\n"
     ]
    }
   ],
   "source": [
    "ee = np.arange(37,85).reshape(6,8)\n",
    "print ( ee.max(axis=1) )"
   ]
  },
  {
   "cell_type": "code",
   "execution_count": 22,
   "id": "986d921b",
   "metadata": {},
   "outputs": [
    {
     "name": "stdout",
     "output_type": "stream",
     "text": [
      "2904\n"
     ]
    }
   ],
   "source": [
    "ee = np.arange(37,85).reshape(6,8)\n",
    "print ( ee.sum() )"
   ]
  },
  {
   "cell_type": "code",
   "execution_count": 23,
   "id": "89e81a0c",
   "metadata": {},
   "outputs": [
    {
     "name": "stdout",
     "output_type": "stream",
     "text": [
      "[342 348 354 360 366 372 378 384]\n"
     ]
    }
   ],
   "source": [
    "ee = np.arange(37,85).reshape(6,8)\n",
    "print ( ee.sum(axis=0) )"
   ]
  },
  {
   "cell_type": "code",
   "execution_count": 24,
   "id": "af9bb8f1",
   "metadata": {},
   "outputs": [
    {
     "name": "stdout",
     "output_type": "stream",
     "text": [
      "[324 388 452 516 580 644]\n"
     ]
    }
   ],
   "source": [
    "ee = np.arange(37,85).reshape(6,8)\n",
    "print ( ee.sum(axis=1) )"
   ]
  },
  {
   "cell_type": "code",
   "execution_count": 25,
   "id": "f45899c0",
   "metadata": {},
   "outputs": [
    {
     "name": "stdout",
     "output_type": "stream",
     "text": [
      "60.5\n"
     ]
    }
   ],
   "source": [
    "ee = np.arange(37,85).reshape(6,8)\n",
    "print ( ee.mean() )"
   ]
  },
  {
   "cell_type": "code",
   "execution_count": 26,
   "id": "42a567fc",
   "metadata": {},
   "outputs": [
    {
     "name": "stdout",
     "output_type": "stream",
     "text": [
      "[57. 58. 59. 60. 61. 62. 63. 64.]\n"
     ]
    }
   ],
   "source": [
    "ee = np.arange(37,85).reshape(6,8)\n",
    "print ( ee.mean(axis=0) )"
   ]
  },
  {
   "cell_type": "code",
   "execution_count": 27,
   "id": "312a41f5",
   "metadata": {},
   "outputs": [
    {
     "name": "stdout",
     "output_type": "stream",
     "text": [
      "[40.5 48.5 56.5 64.5 72.5 80.5]\n"
     ]
    }
   ],
   "source": [
    "ee = np.arange(37,85).reshape(6,8)\n",
    "print ( ee.mean(axis=1) )"
   ]
  },
  {
   "cell_type": "code",
   "execution_count": 28,
   "id": "54f225f9",
   "metadata": {},
   "outputs": [
    {
     "name": "stdout",
     "output_type": "stream",
     "text": [
      "13.853399101544236\n"
     ]
    }
   ],
   "source": [
    "ee = np.arange(37,85).reshape(6,8)\n",
    "print ( ee.std() )"
   ]
  },
  {
   "cell_type": "code",
   "execution_count": 29,
   "id": "7d232c62",
   "metadata": {},
   "outputs": [
    {
     "name": "stdout",
     "output_type": "stream",
     "text": [
      "[13.66260102 13.66260102 13.66260102 13.66260102 13.66260102 13.66260102\n",
      " 13.66260102 13.66260102]\n"
     ]
    }
   ],
   "source": [
    "ee = np.arange(37,85).reshape(6,8)\n",
    "print ( ee.std(axis=0) )"
   ]
  },
  {
   "cell_type": "code",
   "execution_count": 30,
   "id": "d6e09340",
   "metadata": {},
   "outputs": [
    {
     "name": "stdout",
     "output_type": "stream",
     "text": [
      "[2.29128785 2.29128785 2.29128785 2.29128785 2.29128785 2.29128785]\n"
     ]
    }
   ],
   "source": [
    "ee = np.arange(37,85).reshape(6,8)\n",
    "print ( ee.std(axis=1) )"
   ]
  },
  {
   "cell_type": "code",
   "execution_count": 31,
   "id": "d75704f5",
   "metadata": {},
   "outputs": [
    {
     "name": "stdout",
     "output_type": "stream",
     "text": [
      "191.91666666666666\n"
     ]
    }
   ],
   "source": [
    "ee = np.arange(37,85).reshape(6,8)\n",
    "print ( ee.var() )"
   ]
  },
  {
   "cell_type": "code",
   "execution_count": 32,
   "id": "043af46a",
   "metadata": {},
   "outputs": [
    {
     "name": "stdout",
     "output_type": "stream",
     "text": [
      "[186.66666667 186.66666667 186.66666667 186.66666667 186.66666667\n",
      " 186.66666667 186.66666667 186.66666667]\n"
     ]
    }
   ],
   "source": [
    "ee = np.arange(37,85).reshape(6,8)\n",
    "print ( ee.var(axis=0) )"
   ]
  },
  {
   "cell_type": "code",
   "execution_count": 33,
   "id": "a5f72d20",
   "metadata": {},
   "outputs": [
    {
     "name": "stdout",
     "output_type": "stream",
     "text": [
      "[5.25 5.25 5.25 5.25 5.25 5.25]\n"
     ]
    }
   ],
   "source": [
    "ee = np.arange(37,85).reshape(6,8)\n",
    "print ( ee.var(axis=1) )"
   ]
  },
  {
   "cell_type": "code",
   "execution_count": 34,
   "id": "71697f7a",
   "metadata": {},
   "outputs": [
    {
     "name": "stdout",
     "output_type": "stream",
     "text": [
      "60.5\n"
     ]
    }
   ],
   "source": [
    "ee = np.arange(37,85).reshape(6,8)\n",
    "print ( np.median(ee) )"
   ]
  },
  {
   "cell_type": "code",
   "execution_count": 35,
   "id": "5808a748",
   "metadata": {},
   "outputs": [
    {
     "name": "stdout",
     "output_type": "stream",
     "text": [
      "[57. 58. 59. 60. 61. 62. 63. 64.]\n"
     ]
    }
   ],
   "source": [
    "ee = np.arange(37,85).reshape(6,8)\n",
    "print ( np.median ( ee, axis=0 ) )"
   ]
  },
  {
   "cell_type": "code",
   "execution_count": 36,
   "id": "182511c6",
   "metadata": {},
   "outputs": [
    {
     "name": "stdout",
     "output_type": "stream",
     "text": [
      "[40.5 48.5 56.5 64.5 72.5 80.5]\n"
     ]
    }
   ],
   "source": [
    "ee = np.arange(37,85).reshape(6,8)\n",
    "print ( np.median ( ee, axis=1 ) )"
   ]
  },
  {
   "cell_type": "code",
   "execution_count": 37,
   "id": "d6702676",
   "metadata": {},
   "outputs": [
    {
     "name": "stdout",
     "output_type": "stream",
     "text": [
      "[[-0.64353813  0.29636858  0.96379539  0.74511316 -0.15862267 -0.91652155\n",
      "  -0.83177474  0.01770193]\n",
      " [ 0.85090352  0.90178835  0.12357312 -0.76825466 -0.95375265 -0.26237485\n",
      "   0.67022918  0.98662759]\n",
      " [ 0.39592515 -0.55878905 -0.99975517 -0.521551    0.43616476  0.99287265\n",
      "   0.63673801 -0.30481062]\n",
      " [-0.96611777 -0.7391807   0.1673557   0.92002604  0.82682868 -0.02655115\n",
      "  -0.85551998 -0.89792768]\n",
      " [-0.11478481  0.77389068  0.95105465  0.25382336 -0.67677196 -0.98514626\n",
      "  -0.38778164  0.56610764]\n",
      " [ 0.99952016  0.51397846 -0.44411267 -0.99388865 -0.62988799  0.31322878\n",
      "   0.96836446  0.73319032]]\n"
     ]
    }
   ],
   "source": [
    "ee = np.arange(37,85).reshape(6,8)\n",
    "print ( np.sin(ee) )"
   ]
  },
  {
   "cell_type": "code",
   "execution_count": 38,
   "id": "053f84ef",
   "metadata": {},
   "outputs": [
    {
     "name": "stdout",
     "output_type": "stream",
     "text": [
      "[[ 0.76541405  0.95507364  0.26664293 -0.66693806 -0.98733928 -0.39998531\n",
      "   0.5551133   0.99984331]\n",
      " [ 0.52532199 -0.43217794 -0.99233547 -0.64014434  0.30059254  0.96496603\n",
      "   0.7421542  -0.16299078]\n",
      " [-0.91828279 -0.82930983  0.02212676  0.85322011  0.89986683  0.11918014\n",
      "  -0.77108022 -0.95241298]\n",
      " [-0.25810164  0.67350716  0.98589658  0.39185723 -0.56245385 -0.99964746\n",
      "  -0.5177698   0.44014302]\n",
      " [ 0.99339038  0.6333192  -0.30902273 -0.96725059 -0.73619272  0.17171734\n",
      "   0.92175127  0.82433133]\n",
      " [-0.03097503 -0.85780309 -0.89597095 -0.11038724  0.77668598  0.9496777\n",
      "   0.24954012 -0.6800235 ]]\n"
     ]
    }
   ],
   "source": [
    "ee = np.arange(37,85).reshape(6,8)\n",
    "print ( np.cos(ee) )"
   ]
  },
  {
   "cell_type": "code",
   "execution_count": 39,
   "id": "6a04dc4c",
   "metadata": {},
   "outputs": [
    {
     "name": "stdout",
     "output_type": "stream",
     "text": [
      "[[-8.40771255e-01  3.10309661e-01  3.61455441e+00 -1.11721493e+00\n",
      "   1.60656699e-01  2.29138799e+00 -1.49838734e+00  1.77046993e-02]\n",
      " [ 1.61977519e+00 -2.08661353e+00 -1.24527568e-01  1.20012724e+00\n",
      "  -3.17290855e+00 -2.71900612e-01  9.03086149e-01 -6.05327238e+00]\n",
      " [-4.31158197e-01  6.73800101e-01 -4.51830879e+01 -6.11273688e-01\n",
      "   4.84699227e-01  8.33085685e+00 -8.25774009e-01  3.20040389e-01]\n",
      " [ 3.74316794e+00 -1.09750978e+00  1.69749752e-01  2.34786031e+00\n",
      "  -1.47003826e+00  2.65605178e-02  1.65231726e+00 -2.04008160e+00]\n",
      " [-1.15548546e-01  1.22195992e+00 -3.07762040e+00 -2.62417378e-01\n",
      "   9.19286404e-01 -5.73702254e+00 -4.20700951e-01  6.86747689e-01]\n",
      " [-3.22685758e+01 -5.99179998e-01  4.95677533e-01  9.00365495e+00\n",
      "  -8.10994416e-01  3.29826407e-01  3.88059631e+00 -1.07818381e+00]]\n"
     ]
    }
   ],
   "source": [
    "ee = np.arange(37,85).reshape(6,8)\n",
    "print ( np.tan(ee) )"
   ]
  },
  {
   "cell_type": "code",
   "execution_count": 40,
   "id": "11a2eb26",
   "metadata": {},
   "outputs": [
    {
     "name": "stdout",
     "output_type": "stream",
     "text": [
      "[[1.17191424e+16 3.18559318e+16 8.65934004e+16 2.35385267e+17\n",
      "  6.39843494e+17 1.73927494e+18 4.72783947e+18 1.28516001e+19]\n",
      " [3.49342711e+19 9.49611942e+19 2.58131289e+20 7.01673591e+20\n",
      "  1.90734657e+21 5.18470553e+21 1.40934908e+22 3.83100800e+22]\n",
      " [1.04137594e+23 2.83075330e+23 7.69478527e+23 2.09165950e+24\n",
      "  5.68572000e+24 1.54553894e+25 4.20121040e+25 1.14200739e+26]\n",
      " [3.10429794e+26 8.43835667e+26 2.29378316e+27 6.23514908e+27\n",
      "  1.69488924e+28 4.60718663e+28 1.25236317e+29 3.40427605e+29]\n",
      " [9.25378173e+29 2.51543867e+30 6.83767123e+30 1.85867175e+31\n",
      "  5.05239363e+31 1.37338298e+32 3.73324200e+32 1.01480039e+33]\n",
      " [2.75851345e+33 7.49841700e+33 2.03828107e+34 5.54062238e+34\n",
      "  1.50609731e+35 4.09399696e+35 1.11286375e+36 3.02507732e+36]]\n"
     ]
    }
   ],
   "source": [
    "ee = np.arange(37,85).reshape(6,8)\n",
    "print ( np.exp(ee) )"
   ]
  },
  {
   "cell_type": "code",
   "execution_count": 41,
   "id": "dbe14317",
   "metadata": {},
   "outputs": [
    {
     "name": "stdout",
     "output_type": "stream",
     "text": [
      "[[3.61091791 3.63758616 3.66356165 3.68887945 3.71357207 3.73766962\n",
      "  3.76120012 3.78418963]\n",
      " [3.80666249 3.8286414  3.8501476  3.87120101 3.8918203  3.91202301\n",
      "  3.93182563 3.95124372]\n",
      " [3.97029191 3.98898405 4.00733319 4.02535169 4.04305127 4.06044301\n",
      "  4.07753744 4.09434456]\n",
      " [4.11087386 4.12713439 4.14313473 4.15888308 4.17438727 4.18965474\n",
      "  4.20469262 4.21950771]\n",
      " [4.2341065  4.24849524 4.26267988 4.27666612 4.29045944 4.30406509\n",
      "  4.31748811 4.33073334]\n",
      " [4.34380542 4.35670883 4.36944785 4.38202663 4.39444915 4.40671925\n",
      "  4.41884061 4.4308168 ]]\n"
     ]
    }
   ],
   "source": [
    "ee = np.arange(37,85).reshape(6,8)\n",
    "print ( np.log(ee) )"
   ]
  },
  {
   "cell_type": "code",
   "execution_count": 42,
   "id": "caa55be5",
   "metadata": {},
   "outputs": [
    {
     "name": "stdout",
     "output_type": "stream",
     "text": [
      "[[6.08276253 6.164414   6.244998   6.32455532 6.40312424 6.4807407\n",
      "  6.55743852 6.63324958]\n",
      " [6.70820393 6.78232998 6.8556546  6.92820323 7.         7.07106781\n",
      "  7.14142843 7.21110255]\n",
      " [7.28010989 7.34846923 7.41619849 7.48331477 7.54983444 7.61577311\n",
      "  7.68114575 7.74596669]\n",
      " [7.81024968 7.87400787 7.93725393 8.         8.06225775 8.1240384\n",
      "  8.18535277 8.24621125]\n",
      " [8.30662386 8.36660027 8.42614977 8.48528137 8.54400375 8.60232527\n",
      "  8.66025404 8.71779789]\n",
      " [8.77496439 8.83176087 8.88819442 8.94427191 9.         9.05538514\n",
      "  9.11043358 9.16515139]]\n"
     ]
    }
   ],
   "source": [
    "ee = np.arange(37,85).reshape(6,8)\n",
    "print ( np.sqrt(ee) )"
   ]
  },
  {
   "cell_type": "code",
   "execution_count": 43,
   "id": "edc73b24",
   "metadata": {},
   "outputs": [
    {
     "name": "stdout",
     "output_type": "stream",
     "text": [
      "[4.5        3.75       3.3        3.         2.78571429 2.625\n",
      " 2.5        2.4       ]\n"
     ]
    }
   ],
   "source": [
    "aa = np.array ([54,60,66,72,78,84,90,96])\n",
    "bb = np.array ([12,16,20,24,28,32,36,40])\n",
    "print ( aa / bb )"
   ]
  },
  {
   "cell_type": "code",
   "execution_count": 44,
   "id": "771419d2",
   "metadata": {},
   "outputs": [
    {
     "name": "stdout",
     "output_type": "stream",
     "text": [
      "[0.22222222 0.26666667 0.3030303  0.33333333 0.35897436 0.38095238\n",
      " 0.4        0.41666667]\n"
     ]
    }
   ],
   "source": [
    "aa = np.array ([54,60,66,72,78,84,90,96])\n",
    "bb = np.array ([12,16,20,24,28,32,36,40])\n",
    "print ( bb / aa )"
   ]
  },
  {
   "cell_type": "code",
   "execution_count": 45,
   "id": "d3fbb22b",
   "metadata": {},
   "outputs": [
    {
     "name": "stdout",
     "output_type": "stream",
     "text": [
      "[ 6 12  6  0 22 20 18 16]\n"
     ]
    }
   ],
   "source": [
    "aa = np.array ([54,60,66,72,78,84,90,96])\n",
    "bb = np.array ([12,16,20,24,28,32,36,40])\n",
    "print ( aa % bb )"
   ]
  },
  {
   "cell_type": "code",
   "execution_count": 46,
   "id": "f5df257c",
   "metadata": {},
   "outputs": [
    {
     "name": "stdout",
     "output_type": "stream",
     "text": [
      "[4 3 3 3 2 2 2 2]\n"
     ]
    }
   ],
   "source": [
    "aa = np.array ([54,60,66,72,78,84,90,96])\n",
    "bb = np.array ([12,16,20,24,28,32,36,40])\n",
    "print ( aa // bb )"
   ]
  },
  {
   "cell_type": "code",
   "execution_count": null,
   "id": "7d66c147",
   "metadata": {},
   "outputs": [],
   "source": []
  }
 ],
 "metadata": {
  "kernelspec": {
   "display_name": "Python 3 (ipykernel)",
   "language": "python",
   "name": "python3"
  },
  "language_info": {
   "codemirror_mode": {
    "name": "ipython",
    "version": 3
   },
   "file_extension": ".py",
   "mimetype": "text/x-python",
   "name": "python",
   "nbconvert_exporter": "python",
   "pygments_lexer": "ipython3",
   "version": "3.10.9"
  }
 },
 "nbformat": 4,
 "nbformat_minor": 5
}
