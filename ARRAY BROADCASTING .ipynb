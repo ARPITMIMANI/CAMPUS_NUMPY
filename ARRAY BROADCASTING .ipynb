{
 "cells": [
  {
   "cell_type": "code",
   "execution_count": 1,
   "id": "5167c8e2",
   "metadata": {},
   "outputs": [
    {
     "name": "stdout",
     "output_type": "stream",
     "text": [
      "[[17 18 19 20]\n",
      " [21 22 23 24]\n",
      " [25 26 27 28]\n",
      " [29 30 31 32]]\n"
     ]
    }
   ],
   "source": [
    "import numpy as np\n",
    "aa = np.arange(17,33).reshape(4,4)\n",
    "print(aa)"
   ]
  },
  {
   "cell_type": "code",
   "execution_count": 2,
   "id": "ead66f3d",
   "metadata": {},
   "outputs": [
    {
     "name": "stdout",
     "output_type": "stream",
     "text": [
      "[[11 12 13 14]]\n"
     ]
    }
   ],
   "source": [
    "bb = np.arange(11,15).reshape(1,4)\n",
    "print(bb)"
   ]
  },
  {
   "cell_type": "code",
   "execution_count": 3,
   "id": "c1f4acfe",
   "metadata": {},
   "outputs": [
    {
     "name": "stdout",
     "output_type": "stream",
     "text": [
      "[[15]\n",
      " [16]\n",
      " [17]\n",
      " [18]]\n"
     ]
    }
   ],
   "source": [
    "cc = np.arange(15,19).reshape(4,1)\n",
    "print(cc)"
   ]
  },
  {
   "cell_type": "code",
   "execution_count": 4,
   "id": "83dce64d",
   "metadata": {},
   "outputs": [
    {
     "name": "stdout",
     "output_type": "stream",
     "text": [
      "[[28 30 32 34]\n",
      " [32 34 36 38]\n",
      " [36 38 40 42]\n",
      " [40 42 44 46]]\n"
     ]
    }
   ],
   "source": [
    "print ( aa + bb )"
   ]
  },
  {
   "cell_type": "code",
   "execution_count": 5,
   "id": "144a6823",
   "metadata": {},
   "outputs": [
    {
     "name": "stdout",
     "output_type": "stream",
     "text": [
      "[[32 33 34 35]\n",
      " [37 38 39 40]\n",
      " [42 43 44 45]\n",
      " [47 48 49 50]]\n"
     ]
    }
   ],
   "source": [
    "print ( aa + cc )"
   ]
  },
  {
   "cell_type": "code",
   "execution_count": 6,
   "id": "937221ba",
   "metadata": {},
   "outputs": [
    {
     "name": "stdout",
     "output_type": "stream",
     "text": [
      "[[26 27 28 29]\n",
      " [27 28 29 30]\n",
      " [28 29 30 31]\n",
      " [29 30 31 32]]\n"
     ]
    }
   ],
   "source": [
    "print ( bb + cc )"
   ]
  },
  {
   "cell_type": "code",
   "execution_count": 7,
   "id": "daabea03",
   "metadata": {},
   "outputs": [
    {
     "name": "stdout",
     "output_type": "stream",
     "text": [
      "[[104 108 112 116]\n",
      " [120 124 128 132]\n",
      " [136 140 144 148]\n",
      " [152 156 160 164]\n",
      " [168 172 176 180]\n",
      " [184 188 192 196]]\n"
     ]
    }
   ],
   "source": [
    "dd = np.arange(104,200,4).reshape(6,4)\n",
    "print(dd)"
   ]
  },
  {
   "cell_type": "code",
   "execution_count": 8,
   "id": "03ea04fc",
   "metadata": {},
   "outputs": [
    {
     "name": "stdout",
     "output_type": "stream",
     "text": [
      "[[50]]\n"
     ]
    }
   ],
   "source": [
    "ee = np.arange(50,51).reshape(1,1)\n",
    "print(ee)"
   ]
  },
  {
   "cell_type": "code",
   "execution_count": 9,
   "id": "48eb0022",
   "metadata": {},
   "outputs": [
    {
     "name": "stdout",
     "output_type": "stream",
     "text": [
      "[[154 158 162 166]\n",
      " [170 174 178 182]\n",
      " [186 190 194 198]\n",
      " [202 206 210 214]\n",
      " [218 222 226 230]\n",
      " [234 238 242 246]]\n"
     ]
    }
   ],
   "source": [
    "print ( dd + ee )"
   ]
  },
  {
   "cell_type": "code",
   "execution_count": 10,
   "id": "c70bcd7e",
   "metadata": {},
   "outputs": [
    {
     "name": "stdout",
     "output_type": "stream",
     "text": [
      "[[154 158 162 166]\n",
      " [170 174 178 182]\n",
      " [186 190 194 198]\n",
      " [202 206 210 214]\n",
      " [218 222 226 230]\n",
      " [234 238 242 246]]\n"
     ]
    }
   ],
   "source": [
    "print ( ee + dd )"
   ]
  },
  {
   "cell_type": "code",
   "execution_count": 11,
   "id": "4ea7461e",
   "metadata": {},
   "outputs": [
    {
     "name": "stdout",
     "output_type": "stream",
     "text": [
      "[[301 302 303 304 305 306]]\n"
     ]
    }
   ],
   "source": [
    "ff = np.arange(301,307).reshape(1,6)\n",
    "print(ff)"
   ]
  },
  {
   "cell_type": "code",
   "execution_count": 12,
   "id": "197666b8",
   "metadata": {},
   "outputs": [
    {
     "name": "stdout",
     "output_type": "stream",
     "text": [
      "[[201]\n",
      " [202]\n",
      " [203]\n",
      " [204]\n",
      " [205]\n",
      " [206]]\n"
     ]
    }
   ],
   "source": [
    "gg = np.arange(201,207).reshape(6,1)\n",
    "print(gg)"
   ]
  },
  {
   "cell_type": "code",
   "execution_count": 13,
   "id": "1b3df2ad",
   "metadata": {},
   "outputs": [
    {
     "name": "stdout",
     "output_type": "stream",
     "text": [
      "[[502 503 504 505 506 507]\n",
      " [503 504 505 506 507 508]\n",
      " [504 505 506 507 508 509]\n",
      " [505 506 507 508 509 510]\n",
      " [506 507 508 509 510 511]\n",
      " [507 508 509 510 511 512]]\n"
     ]
    }
   ],
   "source": [
    "print ( ff + gg )"
   ]
  },
  {
   "cell_type": "code",
   "execution_count": null,
   "id": "8bfb3ad1",
   "metadata": {},
   "outputs": [],
   "source": []
  }
 ],
 "metadata": {
  "kernelspec": {
   "display_name": "Python 3 (ipykernel)",
   "language": "python",
   "name": "python3"
  },
  "language_info": {
   "codemirror_mode": {
    "name": "ipython",
    "version": 3
   },
   "file_extension": ".py",
   "mimetype": "text/x-python",
   "name": "python",
   "nbconvert_exporter": "python",
   "pygments_lexer": "ipython3",
   "version": "3.10.9"
  }
 },
 "nbformat": 4,
 "nbformat_minor": 5
}
