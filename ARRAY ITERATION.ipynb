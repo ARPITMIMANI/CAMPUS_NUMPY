{
 "cells": [
  {
   "cell_type": "code",
   "execution_count": 1,
   "id": "32dd8e2e",
   "metadata": {},
   "outputs": [
    {
     "name": "stdout",
     "output_type": "stream",
     "text": [
      "[[ 1  2  3  4  5  6]\n",
      " [ 7  8  9 10 11 12]\n",
      " [13 14 15 16 17 18]\n",
      " [19 20 21 22 23 24]]\n"
     ]
    }
   ],
   "source": [
    "import numpy as np\n",
    "aa = np.arange(1,25).reshape(4,6)\n",
    "print(aa)"
   ]
  },
  {
   "cell_type": "code",
   "execution_count": 2,
   "id": "9ab53b04",
   "metadata": {},
   "outputs": [
    {
     "name": "stdout",
     "output_type": "stream",
     "text": [
      "[25 26 27 28 29 30 31 32 33 34 35 36]\n"
     ]
    }
   ],
   "source": [
    "bb = np.arange(25,37)\n",
    "print(bb)"
   ]
  },
  {
   "cell_type": "code",
   "execution_count": 3,
   "id": "933479ae",
   "metadata": {},
   "outputs": [
    {
     "name": "stdout",
     "output_type": "stream",
     "text": [
      "16\n"
     ]
    }
   ],
   "source": [
    "print ( aa[2,3] )"
   ]
  },
  {
   "cell_type": "code",
   "execution_count": 8,
   "id": "43f828ad",
   "metadata": {},
   "outputs": [
    {
     "name": "stdout",
     "output_type": "stream",
     "text": [
      "[13 14 15 16 17 18]\n"
     ]
    }
   ],
   "source": [
    "print ( aa[2,:] )"
   ]
  },
  {
   "cell_type": "code",
   "execution_count": 9,
   "id": "50fdca93",
   "metadata": {},
   "outputs": [
    {
     "name": "stdout",
     "output_type": "stream",
     "text": [
      "[ 4 10 16 22]\n"
     ]
    }
   ],
   "source": [
    "print ( aa[:,3] )"
   ]
  },
  {
   "cell_type": "code",
   "execution_count": 10,
   "id": "45421569",
   "metadata": {},
   "outputs": [
    {
     "name": "stdout",
     "output_type": "stream",
     "text": [
      "[[ 1  2  3  4  5  6]\n",
      " [ 7  8  9 10 11 12]]\n"
     ]
    }
   ],
   "source": [
    "print ( aa[:2,:] )"
   ]
  },
  {
   "cell_type": "code",
   "execution_count": 14,
   "id": "d7eabe08",
   "metadata": {},
   "outputs": [
    {
     "name": "stdout",
     "output_type": "stream",
     "text": [
      "[[ 1  2  3]\n",
      " [ 7  8  9]\n",
      " [13 14 15]\n",
      " [19 20 21]]\n"
     ]
    }
   ],
   "source": [
    "print ( aa[:,:3] )"
   ]
  },
  {
   "cell_type": "code",
   "execution_count": 15,
   "id": "8d64d373",
   "metadata": {},
   "outputs": [
    {
     "name": "stdout",
     "output_type": "stream",
     "text": [
      "[[ 9 10]\n",
      " [15 16]]\n"
     ]
    }
   ],
   "source": [
    "print ( aa[1:3,2:4] )"
   ]
  },
  {
   "cell_type": "code",
   "execution_count": 16,
   "id": "ddca597a",
   "metadata": {},
   "outputs": [
    {
     "name": "stdout",
     "output_type": "stream",
     "text": [
      "[[17 18]\n",
      " [23 24]]\n"
     ]
    }
   ],
   "source": [
    "print ( aa[2:4,4:6] )"
   ]
  },
  {
   "cell_type": "code",
   "execution_count": 17,
   "id": "35d4d712",
   "metadata": {},
   "outputs": [
    {
     "name": "stdout",
     "output_type": "stream",
     "text": [
      "28\n"
     ]
    }
   ],
   "source": [
    "print ( bb[3] )"
   ]
  },
  {
   "cell_type": "code",
   "execution_count": 18,
   "id": "3bb8efe8",
   "metadata": {},
   "outputs": [
    {
     "name": "stdout",
     "output_type": "stream",
     "text": [
      "34\n"
     ]
    }
   ],
   "source": [
    "print ( bb[-3] )"
   ]
  },
  {
   "cell_type": "code",
   "execution_count": 19,
   "id": "d9ebd1a2",
   "metadata": {},
   "outputs": [
    {
     "name": "stdout",
     "output_type": "stream",
     "text": [
      "[25 27 29 31 33 35]\n"
     ]
    }
   ],
   "source": [
    "print ( bb[0:12:2] )"
   ]
  },
  {
   "cell_type": "code",
   "execution_count": 20,
   "id": "363d3e14",
   "metadata": {},
   "outputs": [
    {
     "name": "stdout",
     "output_type": "stream",
     "text": [
      "[26 28 30 32 34 36]\n"
     ]
    }
   ],
   "source": [
    "print ( bb[1::2] )"
   ]
  },
  {
   "cell_type": "code",
   "execution_count": 21,
   "id": "7862af47",
   "metadata": {},
   "outputs": [
    {
     "name": "stdout",
     "output_type": "stream",
     "text": [
      "[25 28 31 34]\n"
     ]
    }
   ],
   "source": [
    "print ( bb[::3] )"
   ]
  },
  {
   "cell_type": "code",
   "execution_count": 22,
   "id": "bde21e8b",
   "metadata": {},
   "outputs": [
    {
     "name": "stdout",
     "output_type": "stream",
     "text": [
      "[29 30 31 32]\n"
     ]
    }
   ],
   "source": [
    "print ( bb[4:8] )"
   ]
  },
  {
   "cell_type": "code",
   "execution_count": 23,
   "id": "d4436f5f",
   "metadata": {},
   "outputs": [
    {
     "name": "stdout",
     "output_type": "stream",
     "text": [
      "[29 30 31 32]\n"
     ]
    }
   ],
   "source": [
    "print ( bb[-8:-4] )"
   ]
  },
  {
   "cell_type": "code",
   "execution_count": 24,
   "id": "3d45327f",
   "metadata": {},
   "outputs": [
    {
     "name": "stdout",
     "output_type": "stream",
     "text": [
      "[1 2 3 4 5 6]\n",
      "[ 7  8  9 10 11 12]\n",
      "[13 14 15 16 17 18]\n",
      "[19 20 21 22 23 24]\n"
     ]
    }
   ],
   "source": [
    "for x in aa:\n",
    "    print(x)"
   ]
  },
  {
   "cell_type": "code",
   "execution_count": 25,
   "id": "a97bf969",
   "metadata": {},
   "outputs": [
    {
     "name": "stdout",
     "output_type": "stream",
     "text": [
      "1\n",
      "2\n",
      "3\n",
      "4\n",
      "5\n",
      "6\n",
      "7\n",
      "8\n",
      "9\n",
      "10\n",
      "11\n",
      "12\n",
      "13\n",
      "14\n",
      "15\n",
      "16\n",
      "17\n",
      "18\n",
      "19\n",
      "20\n",
      "21\n",
      "22\n",
      "23\n",
      "24\n"
     ]
    }
   ],
   "source": [
    "for x in aa:\n",
    "    for y in x:\n",
    "        print(y)"
   ]
  },
  {
   "cell_type": "code",
   "execution_count": 26,
   "id": "80e82b30",
   "metadata": {},
   "outputs": [
    {
     "name": "stdout",
     "output_type": "stream",
     "text": [
      "1\n",
      "2\n",
      "3\n",
      "4\n",
      "5\n",
      "6\n",
      "7\n",
      "8\n",
      "9\n",
      "10\n",
      "11\n",
      "12\n",
      "13\n",
      "14\n",
      "15\n",
      "16\n",
      "17\n",
      "18\n",
      "19\n",
      "20\n",
      "21\n",
      "22\n",
      "23\n",
      "24\n"
     ]
    }
   ],
   "source": [
    "for x in np.nditer(aa):\n",
    "    print(x)"
   ]
  },
  {
   "cell_type": "code",
   "execution_count": null,
   "id": "97098e58",
   "metadata": {},
   "outputs": [],
   "source": []
  }
 ],
 "metadata": {
  "kernelspec": {
   "display_name": "Python 3 (ipykernel)",
   "language": "python",
   "name": "python3"
  },
  "language_info": {
   "codemirror_mode": {
    "name": "ipython",
    "version": 3
   },
   "file_extension": ".py",
   "mimetype": "text/x-python",
   "name": "python",
   "nbconvert_exporter": "python",
   "pygments_lexer": "ipython3",
   "version": "3.10.9"
  }
 },
 "nbformat": 4,
 "nbformat_minor": 5
}
