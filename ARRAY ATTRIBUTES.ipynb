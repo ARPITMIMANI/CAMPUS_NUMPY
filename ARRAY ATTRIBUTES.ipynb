{
 "cells": [
  {
   "cell_type": "code",
   "execution_count": 1,
   "id": "4e1af132",
   "metadata": {},
   "outputs": [
    {
     "name": "stdout",
     "output_type": "stream",
     "text": [
      "[1 2 3 4 5 6 7 8]\n",
      "THE TYPE IS <class 'numpy.ndarray'>\n",
      "THE SHAPE OF ARRAY IS (8,)\n",
      "THE DIMENSION OF ARRAY IS 1\n",
      "THE SIZE OF ARRAY IS 8\n",
      "THE ITEM SIZE OF ARRAY IS 4\n",
      "THE DATA TYPE OF ARRAY IS int32\n"
     ]
    }
   ],
   "source": [
    "import numpy as np\n",
    "aa = np.array([1,2,3,4,5,6,7,8])\n",
    "print(aa)\n",
    "print ( \"THE TYPE IS\" , type(aa) ) \n",
    "print ( \"THE SHAPE OF ARRAY IS\" , aa.shape )\n",
    "print ( \"THE DIMENSION OF ARRAY IS\" , aa.ndim )\n",
    "print ( \"THE SIZE OF ARRAY IS\" , aa.size )\n",
    "print ( \"THE ITEM SIZE OF ARRAY IS\" , aa.itemsize )\n",
    "print ( \"THE DATA TYPE OF ARRAY IS\" , aa.dtype )"
   ]
  },
  {
   "cell_type": "code",
   "execution_count": 2,
   "id": "536d99d0",
   "metadata": {},
   "outputs": [
    {
     "name": "stdout",
     "output_type": "stream",
     "text": [
      "[[11 12 13 14]\n",
      " [15 16 17 18]]\n",
      "THE TYPE IS <class 'numpy.ndarray'>\n",
      "THE SHAPE OF ARRAY IS (2, 4)\n",
      "THE DIMENSION OF ARRAY IS 2\n",
      "THE SIZE OF ARRAY IS 8\n",
      "THE ITEM SIZE OF ARRAY IS 4\n",
      "THE DATA TYPE OF ARRAY IS int32\n"
     ]
    }
   ],
   "source": [
    "bb = np.array ([ [11,12,13,14] , [15,16,17,18] ])\n",
    "print(bb)\n",
    "print ( \"THE TYPE IS\" , type(bb) )\n",
    "print ( \"THE SHAPE OF ARRAY IS\" , bb.shape )\n",
    "print ( \"THE DIMENSION OF ARRAY IS\" , bb.ndim )\n",
    "print ( \"THE SIZE OF ARRAY IS\" , bb.size )\n",
    "print ( \"THE ITEM SIZE OF ARRAY IS\" , bb.itemsize )\n",
    "print ( \"THE DATA TYPE OF ARRAY IS\" , bb.dtype )"
   ]
  },
  {
   "cell_type": "code",
   "execution_count": 3,
   "id": "95f4d5b1",
   "metadata": {},
   "outputs": [
    {
     "name": "stdout",
     "output_type": "stream",
     "text": [
      "[[0. 0. 0. 0. 0. 0.]\n",
      " [0. 0. 0. 0. 0. 0.]\n",
      " [0. 0. 0. 0. 0. 0.]\n",
      " [0. 0. 0. 0. 0. 0.]]\n",
      "THE TYPE IS <class 'numpy.ndarray'>\n",
      "THE SHAPE OF ARRAY IS (4, 6)\n",
      "THE DIMENSION OF ARRAY IS 2\n",
      "THE SIZE OF ARRAY IS 24\n",
      "THE ITEM SIZE OF ARRAY IS 8\n",
      "THE DATA TYPE OF ARRAY IS float64\n"
     ]
    }
   ],
   "source": [
    "cc = np.zeros((4,6))\n",
    "print(cc)\n",
    "print ( \"THE TYPE IS\" , type(cc) )\n",
    "print ( \"THE SHAPE OF ARRAY IS\" , cc.shape )\n",
    "print ( \"THE DIMENSION OF ARRAY IS\" , cc.ndim )\n",
    "print ( \"THE SIZE OF ARRAY IS\" , cc.size )\n",
    "print ( \"THE ITEM SIZE OF ARRAY IS\" , cc.itemsize )\n",
    "print ( \"THE DATA TYPE OF ARRAY IS\" , cc.dtype )"
   ]
  },
  {
   "cell_type": "code",
   "execution_count": 4,
   "id": "d537296f",
   "metadata": {},
   "outputs": [
    {
     "name": "stdout",
     "output_type": "stream",
     "text": [
      "[[1. 1. 1. 1. 1. 1.]\n",
      " [1. 1. 1. 1. 1. 1.]\n",
      " [1. 1. 1. 1. 1. 1.]\n",
      " [1. 1. 1. 1. 1. 1.]]\n",
      "THE TYPE IS <class 'numpy.ndarray'>\n",
      "THE SHAPE OF ARRAY IS (4, 6)\n",
      "THE DIMENSION OF ARRAY IS 2\n",
      "THE SIZE OF ARRAY IS 24\n",
      "THE ITEM SIZE OF ARRAY IS 8\n",
      "THE DATA TYPE OF ARRAY IS float64\n"
     ]
    }
   ],
   "source": [
    "dd = np.ones((4,6))\n",
    "print(dd)\n",
    "print ( \"THE TYPE IS\" , type(dd) )\n",
    "print ( \"THE SHAPE OF ARRAY IS\" , dd.shape )\n",
    "print ( \"THE DIMENSION OF ARRAY IS\" , dd.ndim )\n",
    "print ( \"THE SIZE OF ARRAY IS\" , dd.size )\n",
    "print ( \"THE ITEM SIZE OF ARRAY IS\" , dd.itemsize )\n",
    "print ( \"THE DATA TYPE OF ARRAY IS\" , dd.dtype )"
   ]
  },
  {
   "cell_type": "code",
   "execution_count": 5,
   "id": "6fce3e0d",
   "metadata": {},
   "outputs": [
    {
     "name": "stdout",
     "output_type": "stream",
     "text": [
      "[[1. 0. 0. 0.]\n",
      " [0. 1. 0. 0.]\n",
      " [0. 0. 1. 0.]\n",
      " [0. 0. 0. 1.]]\n",
      "THE TYPE IS <class 'numpy.ndarray'>\n",
      "THE SHAPE OF ARRAY IS (4, 4)\n",
      "THE DIMENSION OF ARRAY IS 2\n",
      "THE SIZE OF ARRAY IS 16\n",
      "THE ITEM SIZE OF ARRAY IS 8\n",
      "THE DATA TYPE OF ARRAY IS float64\n"
     ]
    }
   ],
   "source": [
    "ee = np.identity(4)\n",
    "print(ee)\n",
    "print ( \"THE TYPE IS\" , type(ee) )\n",
    "print ( \"THE SHAPE OF ARRAY IS\" , ee.shape )\n",
    "print ( \"THE DIMENSION OF ARRAY IS\" , ee.ndim )\n",
    "print ( \"THE SIZE OF ARRAY IS\" , ee.size )\n",
    "print ( \"THE ITEM SIZE OF ARRAY IS\" , ee.itemsize )\n",
    "print ( \"THE DATA TYPE OF ARRAY IS\" , ee.dtype )"
   ]
  },
  {
   "cell_type": "code",
   "execution_count": 6,
   "id": "30b3124d",
   "metadata": {},
   "outputs": [
    {
     "name": "stdout",
     "output_type": "stream",
     "text": [
      "[ 0  1  2  3  4  5  6  7  8  9 10]\n",
      "THE TYPE IS <class 'numpy.ndarray'>\n",
      "THE SHAPE OF ARRAY IS (11,)\n",
      "THE DIMENSION OF ARRAY IS 1\n",
      "THE SIZE OF ARRAY IS 11\n",
      "THE ITEM SIZE OF ARRAY IS 4\n",
      "THE DATA TYPE OF ARRAY IS int32\n"
     ]
    }
   ],
   "source": [
    "ff = np.arange(11)\n",
    "print(ff)\n",
    "print ( \"THE TYPE IS\" , type(ff) )\n",
    "print ( \"THE SHAPE OF ARRAY IS\" , ff.shape )\n",
    "print ( \"THE DIMENSION OF ARRAY IS\" , ff.ndim )\n",
    "print ( \"THE SIZE OF ARRAY IS\" , ff.size )\n",
    "print ( \"THE ITEM SIZE OF ARRAY IS\" , ff.itemsize )\n",
    "print ( \"THE DATA TYPE OF ARRAY IS\" , ff.dtype )"
   ]
  },
  {
   "cell_type": "code",
   "execution_count": 7,
   "id": "97043853",
   "metadata": {},
   "outputs": [
    {
     "name": "stdout",
     "output_type": "stream",
     "text": [
      "[11 12 13 14 15 16 17 18 19 20]\n",
      "THE TYPE IS <class 'numpy.ndarray'>\n",
      "THE SHAPE OF ARRAY IS (10,)\n",
      "THE DIMENSION OF ARRAY IS 1\n",
      "THE SIZE OF ARRAY IS 10\n",
      "THE ITEM SIZE OF ARRAY IS 4\n",
      "THE DATA TYPE OF ARRAY IS int32\n"
     ]
    }
   ],
   "source": [
    "gg = np.arange(11,21)\n",
    "print(gg)\n",
    "print ( \"THE TYPE IS\" , type(gg) )\n",
    "print ( \"THE SHAPE OF ARRAY IS\" , gg.shape )\n",
    "print ( \"THE DIMENSION OF ARRAY IS\" , gg.ndim )\n",
    "print ( \"THE SIZE OF ARRAY IS\" , gg.size )\n",
    "print ( \"THE ITEM SIZE OF ARRAY IS\" , gg.itemsize )\n",
    "print ( \"THE DATA TYPE OF ARRAY IS\" , gg.dtype )"
   ]
  },
  {
   "cell_type": "code",
   "execution_count": 8,
   "id": "e09efa30",
   "metadata": {},
   "outputs": [
    {
     "name": "stdout",
     "output_type": "stream",
     "text": [
      "[21 23 25 27 29 31 33 35 37 39]\n",
      "THE TYPE IS <class 'numpy.ndarray'>\n",
      "THE SHAPE OF ARRAY IS (10,)\n",
      "THE DIMENSION OF ARRAY IS 1\n",
      "THE SIZE OF ARRAY IS 10\n",
      "THE ITEM SIZE OF ARRAY IS 4\n",
      "THE DATA TYPE OF ARRAY IS int32\n"
     ]
    }
   ],
   "source": [
    "hh = np.arange(21,41,2)\n",
    "print(hh)\n",
    "print ( \"THE TYPE IS\" , type(hh) )\n",
    "print ( \"THE SHAPE OF ARRAY IS\" , hh.shape )\n",
    "print ( \"THE DIMENSION OF ARRAY IS\" , hh.ndim )\n",
    "print ( \"THE SIZE OF ARRAY IS\" , hh.size )\n",
    "print ( \"THE ITEM SIZE OF ARRAY IS\" , hh.itemsize )\n",
    "print ( \"THE DATA TYPE OF ARRAY IS\" , hh.dtype )"
   ]
  },
  {
   "cell_type": "code",
   "execution_count": 9,
   "id": "9abc8a51",
   "metadata": {},
   "outputs": [
    {
     "name": "stdout",
     "output_type": "stream",
     "text": [
      "[-10  -9  -8  -7  -6  -5  -4  -3  -2  -1]\n",
      "THE TYPE IS <class 'numpy.ndarray'>\n",
      "THE SHAPE OF ARRAY IS (10,)\n",
      "THE DIMENSION OF ARRAY IS 1\n",
      "THE SIZE OF ARRAY IS 10\n",
      "THE ITEM SIZE OF ARRAY IS 4\n",
      "THE DATA TYPE OF ARRAY IS int32\n"
     ]
    }
   ],
   "source": [
    "kk = np.arange(-10,0)\n",
    "print(kk)\n",
    "print ( \"THE TYPE IS\" , type(kk) )\n",
    "print ( \"THE SHAPE OF ARRAY IS\" , kk.shape )\n",
    "print ( \"THE DIMENSION OF ARRAY IS\" , kk.ndim )\n",
    "print ( \"THE SIZE OF ARRAY IS\" , kk.size )\n",
    "print ( \"THE ITEM SIZE OF ARRAY IS\" , kk.itemsize )\n",
    "print ( \"THE DATA TYPE OF ARRAY IS\" , kk.dtype )"
   ]
  },
  {
   "cell_type": "code",
   "execution_count": 10,
   "id": "42d1c80b",
   "metadata": {},
   "outputs": [
    {
     "name": "stdout",
     "output_type": "stream",
     "text": [
      "[21.  21.5 22.  22.5 23.  23.5 24.  24.5 25.  25.5 26.  26.5 27.  27.5\n",
      " 28.  28.5 29.  29.5 30. ]\n",
      "THE TYPE IS <class 'numpy.ndarray'>\n",
      "THE SHAPE OF ARRAY IS (19,)\n",
      "THE DIMENSION OF ARRAY IS 1\n",
      "THE SIZE OF ARRAY IS 19\n",
      "THE ITEM SIZE OF ARRAY IS 8\n",
      "THE DATA TYPE OF ARRAY IS float64\n"
     ]
    }
   ],
   "source": [
    "ll = np.linspace(21,30,19)\n",
    "print(ll)\n",
    "print ( \"THE TYPE IS\" , type(ll) )\n",
    "print ( \"THE SHAPE OF ARRAY IS\" , ll.shape )\n",
    "print ( \"THE DIMENSION OF ARRAY IS\" , ll.ndim )\n",
    "print ( \"THE SIZE OF ARRAY IS\" , ll.size )\n",
    "print ( \"THE ITEM SIZE OF ARRAY IS\" , ll.itemsize )\n",
    "print ( \"THE DATA TYPE OF ARRAY IS\" , ll.dtype )"
   ]
  },
  {
   "cell_type": "code",
   "execution_count": 11,
   "id": "b0829805",
   "metadata": {},
   "outputs": [
    {
     "name": "stdout",
     "output_type": "stream",
     "text": [
      "[ 0.  6. 12. 18. 24. 30. 36. 42. 48. 54. 60. 66. 72. 78. 84. 90. 96.]\n",
      "THE TYPE IS <class 'numpy.ndarray'>\n",
      "THE SHAPE OF ARRAY IS (17,)\n",
      "THE DIMENSION OF ARRAY IS 1\n",
      "THE SIZE OF ARRAY IS 17\n",
      "THE ITEM SIZE OF ARRAY IS 8\n",
      "THE DATA TYPE OF ARRAY IS float64\n"
     ]
    }
   ],
   "source": [
    "mm = np.linspace(0,96,17)\n",
    "print(mm)\n",
    "print ( \"THE TYPE IS\" , type(mm) )\n",
    "print ( \"THE SHAPE OF ARRAY IS\" , mm.shape )\n",
    "print ( \"THE DIMENSION OF ARRAY IS\" , mm.ndim )\n",
    "print ( \"THE SIZE OF ARRAY IS\" , mm.size )\n",
    "print ( \"THE ITEM SIZE OF ARRAY IS\" , mm.itemsize )\n",
    "print ( \"THE DATA TYPE OF ARRAY IS\" , mm.dtype )"
   ]
  },
  {
   "cell_type": "code",
   "execution_count": 12,
   "id": "87889fcf",
   "metadata": {},
   "outputs": [
    {
     "name": "stdout",
     "output_type": "stream",
     "text": [
      "[ 0.  6. 12. 18. 24. 30. 36. 42. 48. 54. 60. 66. 72. 78. 84. 90. 96.]\n",
      "THE TYPE IS <class 'numpy.ndarray'>\n",
      "THE SHAPE OF ARRAY IS (17,)\n",
      "THE DIMENSION OF ARRAY IS 1\n",
      "THE SIZE OF ARRAY IS 17\n",
      "THE ITEM SIZE OF ARRAY IS 8\n",
      "THE DATA TYPE OF ARRAY IS float64\n"
     ]
    }
   ],
   "source": [
    "nn = mm.copy()\n",
    "print(nn)\n",
    "print ( \"THE TYPE IS\" , type(nn) )\n",
    "print ( \"THE SHAPE OF ARRAY IS\" , nn.shape )\n",
    "print ( \"THE DIMENSION OF ARRAY IS\" , nn.ndim )\n",
    "print ( \"THE SIZE OF ARRAY IS\" , nn.size )\n",
    "print ( \"THE ITEM SIZE OF ARRAY IS\" , nn.itemsize )\n",
    "print ( \"THE DATA TYPE OF ARRAY IS\" , nn.dtype )"
   ]
  },
  {
   "cell_type": "code",
   "execution_count": 13,
   "id": "2c42a942",
   "metadata": {},
   "outputs": [
    {
     "name": "stdout",
     "output_type": "stream",
     "text": [
      "[[[31 32 33 34]\n",
      "  [35 36 37 38]\n",
      "  [39 40 41 42]]\n",
      "\n",
      " [[43 44 45 46]\n",
      "  [47 48 49 50]\n",
      "  [51 52 53 54]]]\n",
      "THE TYPE IS <class 'numpy.ndarray'>\n",
      "THE SHAPE OF ARRAY IS (2, 3, 4)\n",
      "THE DIMENSION OF ARRAY IS 3\n",
      "THE SIZE OF ARRAY IS 24\n",
      "THE ITEM SIZE OF ARRAY IS 4\n",
      "THE DATA TYPE OF ARRAY IS int32\n"
     ]
    }
   ],
   "source": [
    "pp = np.array ([ [ [31,32,33,34] , [35,36,37,38] , [39,40,41,42] ] , [ [43,44,45,46]  , [47,48,49,50] , [51,52,53,54] ] ])\n",
    "print(pp)\n",
    "print ( \"THE TYPE IS\" , type(pp) )\n",
    "print ( \"THE SHAPE OF ARRAY IS\" , pp.shape )\n",
    "print ( \"THE DIMENSION OF ARRAY IS\" , pp.ndim )\n",
    "print ( \"THE SIZE OF ARRAY IS\" , pp.size )\n",
    "print ( \"THE ITEM SIZE OF ARRAY IS\" , pp.itemsize )\n",
    "print ( \"THE DATA TYPE OF ARRAY IS\" , pp.dtype )"
   ]
  },
  {
   "cell_type": "code",
   "execution_count": 14,
   "id": "aaa3a932",
   "metadata": {},
   "outputs": [
    {
     "name": "stdout",
     "output_type": "stream",
     "text": [
      "[1 2 3 4 5 6 7 8]\n",
      "[1. 2. 3. 4. 5. 6. 7. 8.]\n"
     ]
    }
   ],
   "source": [
    "aa = np.array([1,2,3,4,5,6,7,8])\n",
    "print(aa)\n",
    "print ( aa.astype(\"float\") )"
   ]
  },
  {
   "cell_type": "code",
   "execution_count": 15,
   "id": "4b3cb19d",
   "metadata": {},
   "outputs": [
    {
     "name": "stdout",
     "output_type": "stream",
     "text": [
      "[[11 12 13 14]\n",
      " [15 16 17 18]]\n",
      "[['11' '12' '13' '14']\n",
      " ['15' '16' '17' '18']]\n"
     ]
    }
   ],
   "source": [
    "bb = np.array ([ [11,12,13,14] , [15,16,17,18] ])\n",
    "print(bb)\n",
    "print ( bb.astype(\"str\") )"
   ]
  },
  {
   "cell_type": "code",
   "execution_count": 16,
   "id": "c7d56f99",
   "metadata": {},
   "outputs": [
    {
     "name": "stdout",
     "output_type": "stream",
     "text": [
      "[[0. 0. 0. 0. 0. 0.]\n",
      " [0. 0. 0. 0. 0. 0.]\n",
      " [0. 0. 0. 0. 0. 0.]\n",
      " [0. 0. 0. 0. 0. 0.]]\n",
      "[[0 0 0 0 0 0]\n",
      " [0 0 0 0 0 0]\n",
      " [0 0 0 0 0 0]\n",
      " [0 0 0 0 0 0]]\n"
     ]
    }
   ],
   "source": [
    "cc = np.zeros((4,6))\n",
    "print(cc)\n",
    "print ( cc.astype(\"int\") )"
   ]
  },
  {
   "cell_type": "code",
   "execution_count": null,
   "id": "6a3b0fc0",
   "metadata": {},
   "outputs": [],
   "source": []
  }
 ],
 "metadata": {
  "kernelspec": {
   "display_name": "Python 3 (ipykernel)",
   "language": "python",
   "name": "python3"
  },
  "language_info": {
   "codemirror_mode": {
    "name": "ipython",
    "version": 3
   },
   "file_extension": ".py",
   "mimetype": "text/x-python",
   "name": "python",
   "nbconvert_exporter": "python",
   "pygments_lexer": "ipython3",
   "version": "3.10.9"
  }
 },
 "nbformat": 4,
 "nbformat_minor": 5
}
