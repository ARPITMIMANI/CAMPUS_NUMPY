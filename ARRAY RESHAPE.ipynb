{
 "cells": [
  {
   "cell_type": "code",
   "execution_count": 1,
   "id": "62801d24",
   "metadata": {},
   "outputs": [
    {
     "name": "stdout",
     "output_type": "stream",
     "text": [
      "[[[31 32 33 34]\n",
      "  [35 36 37 38]\n",
      "  [39 40 41 42]]\n",
      "\n",
      " [[43 44 45 46]\n",
      "  [47 48 49 50]\n",
      "  [51 52 53 54]]]\n"
     ]
    }
   ],
   "source": [
    "import numpy as np\n",
    "aa = np.array ([ [ [31,32,33,34] , [35,36,37,38] , [39,40,41,42] ] , [ [43,44,45,46]  , [47,48,49,50] , [51,52,53,54] ] ])\n",
    "print(aa)"
   ]
  },
  {
   "cell_type": "code",
   "execution_count": 2,
   "id": "391e6d50",
   "metadata": {},
   "outputs": [
    {
     "name": "stdout",
     "output_type": "stream",
     "text": [
      "3\n"
     ]
    }
   ],
   "source": [
    "print ( aa.ndim )"
   ]
  },
  {
   "cell_type": "code",
   "execution_count": 3,
   "id": "67441576",
   "metadata": {},
   "outputs": [
    {
     "name": "stdout",
     "output_type": "stream",
     "text": [
      "(2, 3, 4)\n"
     ]
    }
   ],
   "source": [
    "print ( aa.shape )"
   ]
  },
  {
   "cell_type": "code",
   "execution_count": 4,
   "id": "61e371ea",
   "metadata": {},
   "outputs": [
    {
     "name": "stdout",
     "output_type": "stream",
     "text": [
      "[31 32 33 34 35 36 37 38 39 40 41 42 43 44 45 46 47 48 49 50 51 52 53 54]\n"
     ]
    }
   ],
   "source": [
    "print ( aa.ravel() )"
   ]
  },
  {
   "cell_type": "code",
   "execution_count": 5,
   "id": "492162c1",
   "metadata": {},
   "outputs": [
    {
     "name": "stdout",
     "output_type": "stream",
     "text": [
      "1\n"
     ]
    }
   ],
   "source": [
    "print ( aa.ravel().ndim )"
   ]
  },
  {
   "cell_type": "code",
   "execution_count": 6,
   "id": "c7443e0c",
   "metadata": {},
   "outputs": [
    {
     "name": "stdout",
     "output_type": "stream",
     "text": [
      "(24,)\n"
     ]
    }
   ],
   "source": [
    "print ( aa.ravel().shape )"
   ]
  },
  {
   "cell_type": "code",
   "execution_count": 7,
   "id": "ab588bdf",
   "metadata": {},
   "outputs": [
    {
     "name": "stdout",
     "output_type": "stream",
     "text": [
      "[[11 12 13 14]\n",
      " [15 16 17 18]]\n"
     ]
    }
   ],
   "source": [
    "bb = np.array ([ [11,12,13,14] , [15,16,17,18] ])\n",
    "print(bb)"
   ]
  },
  {
   "cell_type": "code",
   "execution_count": 8,
   "id": "13781142",
   "metadata": {},
   "outputs": [
    {
     "name": "stdout",
     "output_type": "stream",
     "text": [
      "2\n"
     ]
    }
   ],
   "source": [
    "print ( bb.ndim )"
   ]
  },
  {
   "cell_type": "code",
   "execution_count": 9,
   "id": "21a5fefd",
   "metadata": {},
   "outputs": [
    {
     "name": "stdout",
     "output_type": "stream",
     "text": [
      "(2, 4)\n"
     ]
    }
   ],
   "source": [
    "print ( bb.shape )"
   ]
  },
  {
   "cell_type": "code",
   "execution_count": 10,
   "id": "ca3f1a60",
   "metadata": {},
   "outputs": [
    {
     "name": "stdout",
     "output_type": "stream",
     "text": [
      "[[11 15]\n",
      " [12 16]\n",
      " [13 17]\n",
      " [14 18]]\n"
     ]
    }
   ],
   "source": [
    "print ( bb.transpose() )"
   ]
  },
  {
   "cell_type": "code",
   "execution_count": 11,
   "id": "5eaed70c",
   "metadata": {},
   "outputs": [
    {
     "name": "stdout",
     "output_type": "stream",
     "text": [
      "2\n"
     ]
    }
   ],
   "source": [
    "print ( bb.transpose().ndim )"
   ]
  },
  {
   "cell_type": "code",
   "execution_count": 12,
   "id": "1fcaf463",
   "metadata": {},
   "outputs": [
    {
     "name": "stdout",
     "output_type": "stream",
     "text": [
      "(4, 2)\n"
     ]
    }
   ],
   "source": [
    "print ( bb.transpose().shape )"
   ]
  },
  {
   "cell_type": "code",
   "execution_count": 13,
   "id": "d5d40792",
   "metadata": {},
   "outputs": [
    {
     "name": "stdout",
     "output_type": "stream",
     "text": [
      "[[13 14 15]\n",
      " [16 17 18]]\n"
     ]
    }
   ],
   "source": [
    "cc = np.arange(13,19).reshape(2,3)\n",
    "print(cc)"
   ]
  },
  {
   "cell_type": "code",
   "execution_count": 14,
   "id": "4086e43b",
   "metadata": {},
   "outputs": [
    {
     "name": "stdout",
     "output_type": "stream",
     "text": [
      "[[19 20 21]\n",
      " [22 23 24]]\n"
     ]
    }
   ],
   "source": [
    "dd = np.arange(19,25).reshape(2,3)\n",
    "print(dd)"
   ]
  },
  {
   "cell_type": "code",
   "execution_count": 15,
   "id": "b3524978",
   "metadata": {},
   "outputs": [
    {
     "name": "stdout",
     "output_type": "stream",
     "text": [
      "[[[13 14 15]\n",
      "  [16 17 18]]\n",
      "\n",
      " [[19 20 21]\n",
      "  [22 23 24]]]\n"
     ]
    }
   ],
   "source": [
    "print ( np.stack ((cc,dd)) )"
   ]
  },
  {
   "cell_type": "code",
   "execution_count": 16,
   "id": "47297d97",
   "metadata": {},
   "outputs": [
    {
     "name": "stdout",
     "output_type": "stream",
     "text": [
      "[[13 14 15 19 20 21]\n",
      " [16 17 18 22 23 24]]\n"
     ]
    }
   ],
   "source": [
    "print ( np.hstack ((cc,dd)) )"
   ]
  },
  {
   "cell_type": "code",
   "execution_count": 17,
   "id": "73d2d013",
   "metadata": {},
   "outputs": [
    {
     "name": "stdout",
     "output_type": "stream",
     "text": [
      "[[13 14 15]\n",
      " [16 17 18]\n",
      " [19 20 21]\n",
      " [22 23 24]]\n"
     ]
    }
   ],
   "source": [
    "print ( np.vstack ((cc,dd)) )"
   ]
  },
  {
   "cell_type": "code",
   "execution_count": 18,
   "id": "b5a75068",
   "metadata": {},
   "outputs": [
    {
     "name": "stdout",
     "output_type": "stream",
     "text": [
      "[[[13 19]\n",
      "  [14 20]\n",
      "  [15 21]]\n",
      "\n",
      " [[16 22]\n",
      "  [17 23]\n",
      "  [18 24]]]\n"
     ]
    }
   ],
   "source": [
    "print ( np.dstack ((cc,dd)) )"
   ]
  },
  {
   "cell_type": "code",
   "execution_count": 19,
   "id": "1e4d6b0a",
   "metadata": {},
   "outputs": [
    {
     "name": "stdout",
     "output_type": "stream",
     "text": [
      "[[25 26 27 28 29 30]\n",
      " [31 32 33 34 35 36]\n",
      " [37 38 39 40 41 42]\n",
      " [43 44 45 46 47 48]]\n"
     ]
    }
   ],
   "source": [
    "ee = np.arange(25,49).reshape(4,6)\n",
    "print(ee)"
   ]
  },
  {
   "cell_type": "code",
   "execution_count": 20,
   "id": "51677307",
   "metadata": {},
   "outputs": [
    {
     "name": "stdout",
     "output_type": "stream",
     "text": [
      "[array([[25, 26],\n",
      "       [31, 32],\n",
      "       [37, 38],\n",
      "       [43, 44]]), array([[27, 28],\n",
      "       [33, 34],\n",
      "       [39, 40],\n",
      "       [45, 46]]), array([[29, 30],\n",
      "       [35, 36],\n",
      "       [41, 42],\n",
      "       [47, 48]])]\n"
     ]
    }
   ],
   "source": [
    "print ( np.hsplit (ee,3) )"
   ]
  },
  {
   "cell_type": "code",
   "execution_count": 21,
   "id": "3568f1a3",
   "metadata": {},
   "outputs": [
    {
     "name": "stdout",
     "output_type": "stream",
     "text": [
      "[array([[25, 26, 27, 28, 29, 30],\n",
      "       [31, 32, 33, 34, 35, 36]]), array([[37, 38, 39, 40, 41, 42],\n",
      "       [43, 44, 45, 46, 47, 48]])]\n"
     ]
    }
   ],
   "source": [
    "print ( np.vsplit (ee,2) )"
   ]
  },
  {
   "cell_type": "code",
   "execution_count": 22,
   "id": "09765ae8",
   "metadata": {},
   "outputs": [
    {
     "name": "stdout",
     "output_type": "stream",
     "text": [
      "[array([[25],\n",
      "       [31],\n",
      "       [37],\n",
      "       [43]]), array([[26],\n",
      "       [32],\n",
      "       [38],\n",
      "       [44]]), array([[27],\n",
      "       [33],\n",
      "       [39],\n",
      "       [45]]), array([[28],\n",
      "       [34],\n",
      "       [40],\n",
      "       [46]]), array([[29],\n",
      "       [35],\n",
      "       [41],\n",
      "       [47]]), array([[30],\n",
      "       [36],\n",
      "       [42],\n",
      "       [48]])]\n"
     ]
    }
   ],
   "source": [
    "print ( np.hsplit (ee,6) )"
   ]
  },
  {
   "cell_type": "code",
   "execution_count": 23,
   "id": "410fcdce",
   "metadata": {},
   "outputs": [
    {
     "name": "stdout",
     "output_type": "stream",
     "text": [
      "[array([[25, 26, 27, 28, 29, 30]]), array([[31, 32, 33, 34, 35, 36]]), array([[37, 38, 39, 40, 41, 42]]), array([[43, 44, 45, 46, 47, 48]])]\n"
     ]
    }
   ],
   "source": [
    "print ( np.vsplit (ee,4) )"
   ]
  },
  {
   "cell_type": "code",
   "execution_count": 24,
   "id": "507a0ab7",
   "metadata": {},
   "outputs": [
    {
     "name": "stdout",
     "output_type": "stream",
     "text": [
      "[array([[[31, 32, 33, 34]],\n",
      "\n",
      "       [[43, 44, 45, 46]]]), array([[[35, 36, 37, 38]],\n",
      "\n",
      "       [[47, 48, 49, 50]]]), array([[[39, 40, 41, 42]],\n",
      "\n",
      "       [[51, 52, 53, 54]]])]\n"
     ]
    }
   ],
   "source": [
    "aa = np.array ([ [ [31,32,33,34] , [35,36,37,38] , [39,40,41,42] ] , [ [43,44,45,46]  , [47,48,49,50] , [51,52,53,54] ] ])\n",
    "print ( np.hsplit (aa,3) )"
   ]
  },
  {
   "cell_type": "code",
   "execution_count": 25,
   "id": "0f35c510",
   "metadata": {},
   "outputs": [
    {
     "name": "stdout",
     "output_type": "stream",
     "text": [
      "[array([[[31, 32, 33, 34],\n",
      "        [35, 36, 37, 38],\n",
      "        [39, 40, 41, 42]]]), array([[[43, 44, 45, 46],\n",
      "        [47, 48, 49, 50],\n",
      "        [51, 52, 53, 54]]])]\n"
     ]
    }
   ],
   "source": [
    "aa = np.array ([ [ [31,32,33,34] , [35,36,37,38] , [39,40,41,42] ] , [ [43,44,45,46]  , [47,48,49,50] , [51,52,53,54] ] ])\n",
    "print ( np.vsplit (aa,2) )"
   ]
  },
  {
   "cell_type": "code",
   "execution_count": 26,
   "id": "0790fee7",
   "metadata": {},
   "outputs": [
    {
     "name": "stdout",
     "output_type": "stream",
     "text": [
      "[array([[[31],\n",
      "        [35],\n",
      "        [39]],\n",
      "\n",
      "       [[43],\n",
      "        [47],\n",
      "        [51]]]), array([[[32],\n",
      "        [36],\n",
      "        [40]],\n",
      "\n",
      "       [[44],\n",
      "        [48],\n",
      "        [52]]]), array([[[33],\n",
      "        [37],\n",
      "        [41]],\n",
      "\n",
      "       [[45],\n",
      "        [49],\n",
      "        [53]]]), array([[[34],\n",
      "        [38],\n",
      "        [42]],\n",
      "\n",
      "       [[46],\n",
      "        [50],\n",
      "        [54]]])]\n"
     ]
    }
   ],
   "source": [
    "aa = np.array ([ [ [31,32,33,34] , [35,36,37,38] , [39,40,41,42] ] , [ [43,44,45,46]  , [47,48,49,50] , [51,52,53,54] ] ])\n",
    "print ( np.dsplit (aa,4) )"
   ]
  },
  {
   "cell_type": "code",
   "execution_count": 27,
   "id": "d6f131ac",
   "metadata": {},
   "outputs": [
    {
     "name": "stdout",
     "output_type": "stream",
     "text": [
      "[[[31 32 33 34]\n",
      "  [35 36 37 38]]\n",
      "\n",
      " [[39 40 41 42]\n",
      "  [43 44 45 46]]\n",
      "\n",
      " [[47 48 49 50]\n",
      "  [51 52 53 54]]]\n"
     ]
    }
   ],
   "source": [
    "print ( aa.reshape(3,2,4) )"
   ]
  },
  {
   "cell_type": "code",
   "execution_count": 28,
   "id": "ca58004a",
   "metadata": {},
   "outputs": [
    {
     "name": "stdout",
     "output_type": "stream",
     "text": [
      "[[[31 32]\n",
      "  [33 34]\n",
      "  [35 36]]\n",
      "\n",
      " [[37 38]\n",
      "  [39 40]\n",
      "  [41 42]]\n",
      "\n",
      " [[43 44]\n",
      "  [45 46]\n",
      "  [47 48]]\n",
      "\n",
      " [[49 50]\n",
      "  [51 52]\n",
      "  [53 54]]]\n"
     ]
    }
   ],
   "source": [
    "print ( aa.reshape(4,3,2) )"
   ]
  },
  {
   "cell_type": "code",
   "execution_count": 29,
   "id": "833bf254",
   "metadata": {},
   "outputs": [
    {
     "name": "stdout",
     "output_type": "stream",
     "text": [
      "[[[31 32]\n",
      "  [33 34]\n",
      "  [35 36]\n",
      "  [37 38]]\n",
      "\n",
      " [[39 40]\n",
      "  [41 42]\n",
      "  [43 44]\n",
      "  [45 46]]\n",
      "\n",
      " [[47 48]\n",
      "  [49 50]\n",
      "  [51 52]\n",
      "  [53 54]]]\n"
     ]
    }
   ],
   "source": [
    "print ( aa.reshape(3,4,2) )"
   ]
  },
  {
   "cell_type": "code",
   "execution_count": null,
   "id": "835db889",
   "metadata": {},
   "outputs": [],
   "source": []
  }
 ],
 "metadata": {
  "kernelspec": {
   "display_name": "Python 3 (ipykernel)",
   "language": "python",
   "name": "python3"
  },
  "language_info": {
   "codemirror_mode": {
    "name": "ipython",
    "version": 3
   },
   "file_extension": ".py",
   "mimetype": "text/x-python",
   "name": "python",
   "nbconvert_exporter": "python",
   "pygments_lexer": "ipython3",
   "version": "3.10.9"
  }
 },
 "nbformat": 4,
 "nbformat_minor": 5
}
