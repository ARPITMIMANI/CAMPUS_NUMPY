{
 "cells": [
  {
   "cell_type": "code",
   "execution_count": 1,
   "id": "2847c298",
   "metadata": {},
   "outputs": [
    {
     "name": "stdout",
     "output_type": "stream",
     "text": [
      "[[ 48 100  24  71  90   2]\n",
      " [ 67  90  83  13  97  53]\n",
      " [ 73   4  84  43  89  91]\n",
      " [ 69  14  57   8  20  78]]\n"
     ]
    }
   ],
   "source": [
    "import numpy as np\n",
    "xyz = np.random.randint ( low=1 , high=101 , size=24 ).reshape(4,6)\n",
    "print(xyz)"
   ]
  },
  {
   "cell_type": "code",
   "execution_count": 2,
   "id": "314e304c",
   "metadata": {},
   "outputs": [
    {
     "name": "stdout",
     "output_type": "stream",
     "text": [
      "[69 14 57  8 20 78]\n"
     ]
    }
   ],
   "source": [
    "print ( xyz[3] )"
   ]
  },
  {
   "cell_type": "code",
   "execution_count": 3,
   "id": "0ae2449c",
   "metadata": {},
   "outputs": [
    {
     "name": "stdout",
     "output_type": "stream",
     "text": [
      "83\n"
     ]
    }
   ],
   "source": [
    "print ( xyz[1][2] )"
   ]
  },
  {
   "cell_type": "code",
   "execution_count": 4,
   "id": "73403f0b",
   "metadata": {},
   "outputs": [
    {
     "name": "stdout",
     "output_type": "stream",
     "text": [
      "[[False  True False  True  True False]\n",
      " [ True  True  True False  True  True]\n",
      " [ True False  True False  True  True]\n",
      " [ True False  True False False  True]]\n"
     ]
    }
   ],
   "source": [
    "print ( xyz>50 )"
   ]
  },
  {
   "cell_type": "code",
   "execution_count": 5,
   "id": "c00f111c",
   "metadata": {},
   "outputs": [
    {
     "name": "stdout",
     "output_type": "stream",
     "text": [
      "[[ True False  True False False  True]\n",
      " [False False False  True False False]\n",
      " [False  True False  True False False]\n",
      " [False  True False  True  True False]]\n"
     ]
    }
   ],
   "source": [
    "print ( xyz<51 )"
   ]
  },
  {
   "cell_type": "code",
   "execution_count": 6,
   "id": "04ad0fef",
   "metadata": {},
   "outputs": [
    {
     "name": "stdout",
     "output_type": "stream",
     "text": [
      "(4, 6)\n"
     ]
    }
   ],
   "source": [
    "print ( (xyz>50).shape )"
   ]
  },
  {
   "cell_type": "code",
   "execution_count": 7,
   "id": "a35dab46",
   "metadata": {},
   "outputs": [
    {
     "name": "stdout",
     "output_type": "stream",
     "text": [
      "(4, 6)\n"
     ]
    }
   ],
   "source": [
    "print ( (xyz<51).shape )"
   ]
  },
  {
   "cell_type": "code",
   "execution_count": 8,
   "id": "d2088364",
   "metadata": {},
   "outputs": [
    {
     "name": "stdout",
     "output_type": "stream",
     "text": [
      "[100  71  90  67  90  83  97  53  73  84  89  91  69  57  78]\n"
     ]
    }
   ],
   "source": [
    "print ( xyz [xyz>50] )"
   ]
  },
  {
   "cell_type": "code",
   "execution_count": 9,
   "id": "798a2f61",
   "metadata": {},
   "outputs": [
    {
     "name": "stdout",
     "output_type": "stream",
     "text": [
      "[48 24  2 13  4 43 14  8 20]\n"
     ]
    }
   ],
   "source": [
    "print ( xyz [xyz<51] )"
   ]
  },
  {
   "cell_type": "code",
   "execution_count": 10,
   "id": "92b01ca5",
   "metadata": {},
   "outputs": [
    {
     "name": "stdout",
     "output_type": "stream",
     "text": [
      "[48 24 71 67 53 73 43 69 57 78]\n"
     ]
    }
   ],
   "source": [
    "print ( xyz [ ( xyz > 20 ) & ( xyz < 81 ) ] )"
   ]
  },
  {
   "cell_type": "code",
   "execution_count": 11,
   "id": "786de7d3",
   "metadata": {},
   "outputs": [
    {
     "name": "stdout",
     "output_type": "stream",
     "text": [
      "[71 67 83 13 97 53 73 43 89 91]\n"
     ]
    }
   ],
   "source": [
    "print ( xyz [ ( xyz % 2 != 0 ) & ( xyz % 3 != 0 ) ] )"
   ]
  },
  {
   "cell_type": "code",
   "execution_count": 12,
   "id": "2156d2ff",
   "metadata": {},
   "outputs": [
    {
     "name": "stdout",
     "output_type": "stream",
     "text": [
      "[100  71   2  67  83  13  97  53  73   4  43  89  91  69  14  57   8  20]\n"
     ]
    }
   ],
   "source": [
    "print ( xyz [ ( xyz % 2 != 0 ) | ( xyz % 3 != 0 ) ] )"
   ]
  },
  {
   "cell_type": "code",
   "execution_count": 13,
   "id": "816a4576",
   "metadata": {},
   "outputs": [
    {
     "name": "stdout",
     "output_type": "stream",
     "text": [
      "[[ 48 100  24   0  90   2]\n",
      " [  0  90   0   0   0   0]\n",
      " [  0   4  84   0   0   0]\n",
      " [ 69  14  57   8  20  78]]\n"
     ]
    }
   ],
   "source": [
    "xyz [ ( xyz % 2 != 0 ) & ( xyz % 3 != 0 ) ] = 0 \n",
    "print(xyz)"
   ]
  },
  {
   "cell_type": "code",
   "execution_count": null,
   "id": "86419b9a",
   "metadata": {},
   "outputs": [],
   "source": []
  }
 ],
 "metadata": {
  "kernelspec": {
   "display_name": "Python 3 (ipykernel)",
   "language": "python",
   "name": "python3"
  },
  "language_info": {
   "codemirror_mode": {
    "name": "ipython",
    "version": 3
   },
   "file_extension": ".py",
   "mimetype": "text/x-python",
   "name": "python",
   "nbconvert_exporter": "python",
   "pygments_lexer": "ipython3",
   "version": "3.10.9"
  }
 },
 "nbformat": 4,
 "nbformat_minor": 5
}
