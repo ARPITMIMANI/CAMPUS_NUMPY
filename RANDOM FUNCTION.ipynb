{
 "cells": [
  {
   "cell_type": "code",
   "execution_count": 1,
   "id": "98e9705b",
   "metadata": {},
   "outputs": [
    {
     "name": "stdout",
     "output_type": "stream",
     "text": [
      "0.6953631282167964\n"
     ]
    }
   ],
   "source": [
    "import numpy as np\n",
    "aa = np.random.random() \n",
    "print(aa)"
   ]
  },
  {
   "cell_type": "code",
   "execution_count": 2,
   "id": "0bdf94ee",
   "metadata": {},
   "outputs": [
    {
     "name": "stdout",
     "output_type": "stream",
     "text": [
      "0.24982904156106134\n"
     ]
    }
   ],
   "source": [
    "bb = np.random.random() \n",
    "print(bb)"
   ]
  },
  {
   "cell_type": "code",
   "execution_count": 3,
   "id": "77bc99b0",
   "metadata": {},
   "outputs": [
    {
     "name": "stdout",
     "output_type": "stream",
     "text": [
      "0.5434049417909654\n"
     ]
    }
   ],
   "source": [
    "np.random.seed(100)\n",
    "cc = np.random.random() \n",
    "print(cc)"
   ]
  },
  {
   "cell_type": "code",
   "execution_count": 4,
   "id": "e146b91e",
   "metadata": {},
   "outputs": [
    {
     "name": "stdout",
     "output_type": "stream",
     "text": [
      "0.6687289088341747\n"
     ]
    }
   ],
   "source": [
    "np.random.seed(400)\n",
    "dd = np.random.random() \n",
    "print(dd)"
   ]
  },
  {
   "cell_type": "code",
   "execution_count": 5,
   "id": "e16d9d98",
   "metadata": {},
   "outputs": [
    {
     "name": "stdout",
     "output_type": "stream",
     "text": [
      "0.6586503598135198\n"
     ]
    }
   ],
   "source": [
    "np.random.seed((4,16))\n",
    "ee = np.random.random() \n",
    "print(ee)"
   ]
  },
  {
   "cell_type": "code",
   "execution_count": 6,
   "id": "8979f0e6",
   "metadata": {},
   "outputs": [
    {
     "name": "stdout",
     "output_type": "stream",
     "text": [
      "0.3352564369996247\n"
     ]
    }
   ],
   "source": [
    "np.random.seed((4,16,64))\n",
    "ff = np.random.random() \n",
    "print(ff)"
   ]
  },
  {
   "cell_type": "code",
   "execution_count": 7,
   "id": "681c7ee3",
   "metadata": {},
   "outputs": [
    {
     "name": "stdout",
     "output_type": "stream",
     "text": [
      "8.359262717910728\n"
     ]
    }
   ],
   "source": [
    "gg = np.random.uniform(1,100) \n",
    "print(gg)"
   ]
  },
  {
   "cell_type": "code",
   "execution_count": 8,
   "id": "adbf8293",
   "metadata": {},
   "outputs": [
    {
     "name": "stdout",
     "output_type": "stream",
     "text": [
      "[ 7.75822947  5.10445936  7.38521232 65.24159772 79.10025812 24.1846412\n",
      " 37.89432628 38.40859937 61.86643199  6.64699935 16.86776751 29.09372458\n",
      " 10.49386274 94.90754764 23.4688833  57.10230134 67.64373983 14.27651233\n",
      " 10.25796065 39.91089831  7.9679984  54.2683582   6.90530211 14.16317803]\n"
     ]
    }
   ],
   "source": [
    "hh = np.random.uniform(1,100,24) \n",
    "print(hh)"
   ]
  },
  {
   "cell_type": "code",
   "execution_count": 9,
   "id": "40792902",
   "metadata": {},
   "outputs": [
    {
     "name": "stdout",
     "output_type": "stream",
     "text": [
      "[[33.67361129 12.63990631 72.48849545 93.19658716 20.40697218 23.57632428]\n",
      " [43.3737823  51.46971282 64.41381701 70.34261365 84.07243833 16.28322308]\n",
      " [ 6.8127536  82.28993452 37.78756343 53.59959869 99.27080415 54.04712621]\n",
      " [68.19597074 54.09880115 16.84743973 37.96509789 25.36242132 23.06956556]]\n"
     ]
    }
   ],
   "source": [
    "kk = np.random.uniform(1,100,24) .reshape(4,6) \n",
    "print(kk)"
   ]
  },
  {
   "cell_type": "code",
   "execution_count": 10,
   "id": "672d363c",
   "metadata": {},
   "outputs": [
    {
     "name": "stdout",
     "output_type": "stream",
     "text": [
      "5\n"
     ]
    }
   ],
   "source": [
    "mm = np.random.randint(1,9) \n",
    "print(mm)"
   ]
  },
  {
   "cell_type": "code",
   "execution_count": 11,
   "id": "c4178f08",
   "metadata": {},
   "outputs": [
    {
     "name": "stdout",
     "output_type": "stream",
     "text": [
      "[2 1 3 7 5 8 5 8 6 3 4 2 8 4 5 2 1 4 8 1]\n"
     ]
    }
   ],
   "source": [
    "nn = np.random.randint(1,9,20) \n",
    "print(nn)"
   ]
  },
  {
   "cell_type": "code",
   "execution_count": 12,
   "id": "c9fa3c6c",
   "metadata": {},
   "outputs": [
    {
     "name": "stdout",
     "output_type": "stream",
     "text": [
      "[[1 7 1 3 7]\n",
      " [6 8 5 5 8]\n",
      " [5 7 6 3 3]\n",
      " [8 8 4 7 8]]\n"
     ]
    }
   ],
   "source": [
    "pp = np.random.randint(1,9,20) .reshape(4,5) \n",
    "print(pp)"
   ]
  },
  {
   "cell_type": "code",
   "execution_count": 13,
   "id": "d748d211",
   "metadata": {},
   "outputs": [
    {
     "name": "stdout",
     "output_type": "stream",
     "text": [
      "[37 58 49 33 41 57]\n"
     ]
    }
   ],
   "source": [
    "qq = np.random.randint(31,61,6)\n",
    "print(qq)"
   ]
  },
  {
   "cell_type": "code",
   "execution_count": 14,
   "id": "220dcd33",
   "metadata": {},
   "outputs": [
    {
     "name": "stdout",
     "output_type": "stream",
     "text": [
      "58\n"
     ]
    }
   ],
   "source": [
    "print ( np.max(qq) )"
   ]
  },
  {
   "cell_type": "code",
   "execution_count": 15,
   "id": "4ea06639",
   "metadata": {},
   "outputs": [
    {
     "name": "stdout",
     "output_type": "stream",
     "text": [
      "33\n"
     ]
    }
   ],
   "source": [
    "print ( np.min(qq) )"
   ]
  },
  {
   "cell_type": "code",
   "execution_count": 16,
   "id": "c5380955",
   "metadata": {},
   "outputs": [
    {
     "name": "stdout",
     "output_type": "stream",
     "text": [
      "1\n"
     ]
    }
   ],
   "source": [
    "print ( np.argmax(qq) )"
   ]
  },
  {
   "cell_type": "code",
   "execution_count": 17,
   "id": "f98bf716",
   "metadata": {},
   "outputs": [
    {
     "name": "stdout",
     "output_type": "stream",
     "text": [
      "3\n"
     ]
    }
   ],
   "source": [
    "print ( np.argmin(qq) )"
   ]
  },
  {
   "cell_type": "code",
   "execution_count": 18,
   "id": "9dd8d3a4",
   "metadata": {},
   "outputs": [
    {
     "name": "stdout",
     "output_type": "stream",
     "text": [
      "58\n"
     ]
    }
   ],
   "source": [
    "print ( qq [ np.argmax(qq) ] )"
   ]
  },
  {
   "cell_type": "code",
   "execution_count": 19,
   "id": "5a0ab52f",
   "metadata": {},
   "outputs": [
    {
     "name": "stdout",
     "output_type": "stream",
     "text": [
      "33\n"
     ]
    }
   ],
   "source": [
    "print ( qq [ np.argmin(qq) ] )"
   ]
  },
  {
   "cell_type": "code",
   "execution_count": 20,
   "id": "e59596e7",
   "metadata": {},
   "outputs": [
    {
     "name": "stdout",
     "output_type": "stream",
     "text": [
      "[ 37 100  49  33  41  57]\n"
     ]
    }
   ],
   "source": [
    "qq [ qq % 2 == 0 ] = 100\n",
    "print(qq)"
   ]
  },
  {
   "cell_type": "code",
   "execution_count": 21,
   "id": "d301ecc1",
   "metadata": {},
   "outputs": [
    {
     "name": "stdout",
     "output_type": "stream",
     "text": [
      "[ 6 12 35 30 12 13 34 25 34 22]\n"
     ]
    }
   ],
   "source": [
    "rr = np.random.randint(1,41,10)\n",
    "print(rr)"
   ]
  },
  {
   "cell_type": "code",
   "execution_count": 22,
   "id": "d8710240",
   "metadata": {},
   "outputs": [
    {
     "name": "stdout",
     "output_type": "stream",
     "text": [
      "[  6  12 100  30  12 100  34 100  34  22]\n"
     ]
    }
   ],
   "source": [
    "print ( np.where ( rr%2==1 , 100 , rr ) )"
   ]
  },
  {
   "cell_type": "code",
   "execution_count": 23,
   "id": "712dd2e1",
   "metadata": {},
   "outputs": [
    {
     "name": "stdout",
     "output_type": "stream",
     "text": [
      "[ 6 12 35 30 12 13 34 25 34 22]\n"
     ]
    }
   ],
   "source": [
    "print(rr)"
   ]
  },
  {
   "cell_type": "code",
   "execution_count": 24,
   "id": "b1002738",
   "metadata": {},
   "outputs": [
    {
     "name": "stdout",
     "output_type": "stream",
     "text": [
      "[  6  12 100  30  12 100  34 100  34  22]\n"
     ]
    }
   ],
   "source": [
    "ss = np.where ( rr%2==1 , 100 , rr )\n",
    "print(ss)"
   ]
  },
  {
   "cell_type": "code",
   "execution_count": 25,
   "id": "de9d5d8b",
   "metadata": {},
   "outputs": [
    {
     "name": "stdout",
     "output_type": "stream",
     "text": [
      "[115 130 189 194 137 131 105 103 186 130 128 153 142 182 137 161 129 103\n",
      " 185 115]\n"
     ]
    }
   ],
   "source": [
    "tt = np.random.randint(101,201,20)\n",
    "print(tt)"
   ]
  },
  {
   "cell_type": "code",
   "execution_count": 26,
   "id": "2b8844b7",
   "metadata": {},
   "outputs": [
    {
     "name": "stdout",
     "output_type": "stream",
     "text": [
      "[103 103 105 115 115 128 129 130 130 131 137 137 142 153 161 182 185 186\n",
      " 189 194]\n"
     ]
    }
   ],
   "source": [
    "tt = np.sort(tt)\n",
    "print(tt)"
   ]
  },
  {
   "cell_type": "code",
   "execution_count": 27,
   "id": "2237e379",
   "metadata": {},
   "outputs": [
    {
     "name": "stdout",
     "output_type": "stream",
     "text": [
      "103.0\n"
     ]
    }
   ],
   "source": [
    "print ( np.percentile (tt,0) )"
   ]
  },
  {
   "cell_type": "code",
   "execution_count": 28,
   "id": "e79e75f0",
   "metadata": {},
   "outputs": [
    {
     "name": "stdout",
     "output_type": "stream",
     "text": [
      "104.8\n"
     ]
    }
   ],
   "source": [
    "print ( np.percentile (tt,10) )"
   ]
  },
  {
   "cell_type": "code",
   "execution_count": 29,
   "id": "038a3884",
   "metadata": {},
   "outputs": [
    {
     "name": "stdout",
     "output_type": "stream",
     "text": [
      "124.75\n"
     ]
    }
   ],
   "source": [
    "print ( np.percentile (tt,25) )"
   ]
  },
  {
   "cell_type": "code",
   "execution_count": 30,
   "id": "ad2aef29",
   "metadata": {},
   "outputs": [
    {
     "name": "stdout",
     "output_type": "stream",
     "text": [
      "130.0\n"
     ]
    }
   ],
   "source": [
    "print ( np.percentile (tt,40) )"
   ]
  },
  {
   "cell_type": "code",
   "execution_count": 31,
   "id": "1a814743",
   "metadata": {},
   "outputs": [
    {
     "name": "stdout",
     "output_type": "stream",
     "text": [
      "134.0\n"
     ]
    }
   ],
   "source": [
    "print ( np.percentile (tt,50) )"
   ]
  },
  {
   "cell_type": "code",
   "execution_count": 32,
   "id": "d7932d70",
   "metadata": {},
   "outputs": [
    {
     "name": "stdout",
     "output_type": "stream",
     "text": [
      "139.0\n"
     ]
    }
   ],
   "source": [
    "print ( np.percentile (tt,60) )"
   ]
  },
  {
   "cell_type": "code",
   "execution_count": 33,
   "id": "5edc2cbf",
   "metadata": {},
   "outputs": [
    {
     "name": "stdout",
     "output_type": "stream",
     "text": [
      "166.25\n"
     ]
    }
   ],
   "source": [
    "print ( np.percentile (tt,75) )"
   ]
  },
  {
   "cell_type": "code",
   "execution_count": 34,
   "id": "03bbb457",
   "metadata": {},
   "outputs": [
    {
     "name": "stdout",
     "output_type": "stream",
     "text": [
      "186.3\n"
     ]
    }
   ],
   "source": [
    "print ( np.percentile (tt,90) )"
   ]
  },
  {
   "cell_type": "code",
   "execution_count": 35,
   "id": "5f2ee4a4",
   "metadata": {},
   "outputs": [
    {
     "name": "stdout",
     "output_type": "stream",
     "text": [
      "194.0\n"
     ]
    }
   ],
   "source": [
    "print ( np.percentile (tt,100) )"
   ]
  },
  {
   "cell_type": "code",
   "execution_count": null,
   "id": "2d431736",
   "metadata": {},
   "outputs": [],
   "source": []
  }
 ],
 "metadata": {
  "kernelspec": {
   "display_name": "Python 3 (ipykernel)",
   "language": "python",
   "name": "python3"
  },
  "language_info": {
   "codemirror_mode": {
    "name": "ipython",
    "version": 3
   },
   "file_extension": ".py",
   "mimetype": "text/x-python",
   "name": "python",
   "nbconvert_exporter": "python",
   "pygments_lexer": "ipython3",
   "version": "3.10.9"
  }
 },
 "nbformat": 4,
 "nbformat_minor": 5
}
