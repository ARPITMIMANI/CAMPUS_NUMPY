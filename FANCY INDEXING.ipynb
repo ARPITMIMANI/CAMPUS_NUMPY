{
 "cells": [
  {
   "cell_type": "code",
   "execution_count": 1,
   "id": "53bca5de",
   "metadata": {},
   "outputs": [
    {
     "name": "stdout",
     "output_type": "stream",
     "text": [
      "[[104 108 112 116]\n",
      " [120 124 128 132]\n",
      " [136 140 144 148]\n",
      " [152 156 160 164]\n",
      " [168 172 176 180]\n",
      " [184 188 192 196]]\n"
     ]
    }
   ],
   "source": [
    "import numpy as np\n",
    "xyz = np.arange(104,197,4).reshape(6,4)\n",
    "print(xyz)"
   ]
  },
  {
   "cell_type": "code",
   "execution_count": 2,
   "id": "4a61997f",
   "metadata": {},
   "outputs": [
    {
     "name": "stdout",
     "output_type": "stream",
     "text": [
      "[[120 124 128 132]\n",
      " [136 140 144 148]\n",
      " [168 172 176 180]]\n"
     ]
    }
   ],
   "source": [
    "print ( xyz [[1,2,4],:] )"
   ]
  },
  {
   "cell_type": "code",
   "execution_count": 3,
   "id": "58910efa",
   "metadata": {},
   "outputs": [
    {
     "name": "stdout",
     "output_type": "stream",
     "text": [
      "[[104 108 116]\n",
      " [120 124 132]\n",
      " [136 140 148]\n",
      " [152 156 164]\n",
      " [168 172 180]\n",
      " [184 188 196]]\n"
     ]
    }
   ],
   "source": [
    "print ( xyz [:,[0,1,3]] )"
   ]
  },
  {
   "cell_type": "code",
   "execution_count": 4,
   "id": "53244fe9",
   "metadata": {},
   "outputs": [
    {
     "name": "stdout",
     "output_type": "stream",
     "text": [
      "[120 140 180]\n"
     ]
    }
   ],
   "source": [
    "print ( xyz [[1,2,4],[0,1,3]] )"
   ]
  },
  {
   "cell_type": "code",
   "execution_count": null,
   "id": "fd45c3bb",
   "metadata": {},
   "outputs": [],
   "source": []
  }
 ],
 "metadata": {
  "kernelspec": {
   "display_name": "Python 3 (ipykernel)",
   "language": "python",
   "name": "python3"
  },
  "language_info": {
   "codemirror_mode": {
    "name": "ipython",
    "version": 3
   },
   "file_extension": ".py",
   "mimetype": "text/x-python",
   "name": "python",
   "nbconvert_exporter": "python",
   "pygments_lexer": "ipython3",
   "version": "3.10.9"
  }
 },
 "nbformat": 4,
 "nbformat_minor": 5
}
