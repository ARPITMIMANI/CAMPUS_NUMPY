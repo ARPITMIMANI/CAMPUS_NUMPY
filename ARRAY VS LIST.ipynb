{
 "cells": [
  {
   "cell_type": "code",
   "execution_count": 1,
   "id": "16b32e89",
   "metadata": {},
   "outputs": [
    {
     "name": "stdout",
     "output_type": "stream",
     "text": [
      "2800\n",
      "400\n"
     ]
    }
   ],
   "source": [
    "import numpy as np\n",
    "import sys\n",
    "\n",
    "aa = range(1,101)\n",
    "bb = np.arange(1,101)\n",
    "\n",
    "print ( sys.getsizeof(80) * len(aa) )\n",
    "print ( bb.itemsize * bb.size )"
   ]
  },
  {
   "cell_type": "code",
   "execution_count": 2,
   "id": "d7df7d6c",
   "metadata": {},
   "outputs": [
    {
     "name": "stdout",
     "output_type": "stream",
     "text": [
      "4800\n",
      "400\n"
     ]
    }
   ],
   "source": [
    "import numpy as np\n",
    "import sys\n",
    "\n",
    "aa = range(1,101)\n",
    "bb = np.arange(1,101)\n",
    "\n",
    "print ( sys.getsizeof(aa) * len(aa) )\n",
    "print ( bb.itemsize * bb.size )"
   ]
  },
  {
   "cell_type": "code",
   "execution_count": 3,
   "id": "9292a110",
   "metadata": {},
   "outputs": [
    {
     "name": "stdout",
     "output_type": "stream",
     "text": [
      "0.05499434471130371\n"
     ]
    }
   ],
   "source": [
    "import time\n",
    "\n",
    "cc = range(100001,200001)\n",
    "dd = range(200001,300001)\n",
    "\n",
    "start_time = time.time()\n",
    "ee = [ cc+dd for cc,dd in zip(cc,dd) ]\n",
    "\n",
    "print( time.time() - start_time )"
   ]
  },
  {
   "cell_type": "code",
   "execution_count": 4,
   "id": "6226be9a",
   "metadata": {},
   "outputs": [
    {
     "name": "stdout",
     "output_type": "stream",
     "text": [
      "0.005000591278076172\n"
     ]
    }
   ],
   "source": [
    "import numpy as np\n",
    "import time\n",
    "\n",
    "ff = np.arange(100001,200001)\n",
    "gg = np.arange(200001,300001)\n",
    "\n",
    "start_time = time.time()\n",
    "hh = ff + gg\n",
    "\n",
    "print( time.time() - start_time )"
   ]
  },
  {
   "cell_type": "code",
   "execution_count": 5,
   "id": "1c9e107e",
   "metadata": {},
   "outputs": [
    {
     "name": "stdout",
     "output_type": "stream",
     "text": [
      "6.176076650619507\n"
     ]
    }
   ],
   "source": [
    "import time\n",
    "\n",
    "kk = range(10000001,20000001)\n",
    "mm = range(20000001,30000001)\n",
    "\n",
    "start_time = time.time()\n",
    "nn = [ kk+mm for kk,mm in zip(kk,mm) ]\n",
    "\n",
    "print( time.time() - start_time )"
   ]
  },
  {
   "cell_type": "code",
   "execution_count": 6,
   "id": "b91909fa",
   "metadata": {},
   "outputs": [
    {
     "name": "stdout",
     "output_type": "stream",
     "text": [
      "0.15900850296020508\n"
     ]
    }
   ],
   "source": [
    "import numpy as np\n",
    "import time\n",
    "\n",
    "pp = np.arange(10000001,20000001)\n",
    "qq = np.arange(20000001,30000001)\n",
    "\n",
    "start_time = time.time()\n",
    "rr = pp + qq\n",
    "\n",
    "print( time.time() - start_time )"
   ]
  },
  {
   "cell_type": "code",
   "execution_count": null,
   "id": "a17e2df0",
   "metadata": {},
   "outputs": [],
   "source": []
  }
 ],
 "metadata": {
  "kernelspec": {
   "display_name": "Python 3 (ipykernel)",
   "language": "python",
   "name": "python3"
  },
  "language_info": {
   "codemirror_mode": {
    "name": "ipython",
    "version": 3
   },
   "file_extension": ".py",
   "mimetype": "text/x-python",
   "name": "python",
   "nbconvert_exporter": "python",
   "pygments_lexer": "ipython3",
   "version": "3.10.9"
  }
 },
 "nbformat": 4,
 "nbformat_minor": 5
}
