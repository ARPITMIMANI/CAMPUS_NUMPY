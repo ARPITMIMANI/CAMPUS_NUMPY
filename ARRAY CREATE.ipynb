{
 "cells": [
  {
   "cell_type": "code",
   "execution_count": 1,
   "id": "90c7e6c3",
   "metadata": {},
   "outputs": [
    {
     "name": "stdout",
     "output_type": "stream",
     "text": [
      "[1 2 3 4 5 6 7 8]\n",
      "THE TYPE IS <class 'numpy.ndarray'>\n",
      "THE DIMENSION OF ARRAY IS 1\n"
     ]
    }
   ],
   "source": [
    "import numpy as np\n",
    "aa = np.array([1,2,3,4,5,6,7,8])\n",
    "print(aa)\n",
    "print ( \"THE TYPE IS\" , type(aa) )"
   ]
  },
  {
   "cell_type": "code",
   "execution_count": 2,
   "id": "7d595d39",
   "metadata": {},
   "outputs": [
    {
     "name": "stdout",
     "output_type": "stream",
     "text": [
      "[[11 12 13 14]\n",
      " [15 16 17 18]]\n",
      "THE TYPE IS <class 'numpy.ndarray'>\n",
      "THE DIMENSION OF ARRAY IS 2\n"
     ]
    }
   ],
   "source": [
    "bb = np.array ([ [11,12,13,14] , [15,16,17,18] ])\n",
    "print(bb)\n",
    "print ( \"THE TYPE IS\" , type(bb) )"
   ]
  },
  {
   "cell_type": "code",
   "execution_count": 3,
   "id": "6420dbfa",
   "metadata": {},
   "outputs": [
    {
     "name": "stdout",
     "output_type": "stream",
     "text": [
      "[[0. 0. 0. 0. 0. 0.]\n",
      " [0. 0. 0. 0. 0. 0.]\n",
      " [0. 0. 0. 0. 0. 0.]\n",
      " [0. 0. 0. 0. 0. 0.]]\n",
      "THE TYPE IS <class 'numpy.ndarray'>\n",
      "THE DIMENSION OF ARRAY IS 2\n"
     ]
    }
   ],
   "source": [
    "cc = np.zeros((4,6))\n",
    "print(cc)\n",
    "print ( \"THE TYPE IS\" , type(cc) )"
   ]
  },
  {
   "cell_type": "code",
   "execution_count": 4,
   "id": "e2b4b21b",
   "metadata": {},
   "outputs": [
    {
     "name": "stdout",
     "output_type": "stream",
     "text": [
      "[[1. 1. 1. 1. 1. 1.]\n",
      " [1. 1. 1. 1. 1. 1.]\n",
      " [1. 1. 1. 1. 1. 1.]\n",
      " [1. 1. 1. 1. 1. 1.]]\n",
      "THE TYPE IS <class 'numpy.ndarray'>\n",
      "THE DIMENSION OF ARRAY IS 2\n"
     ]
    }
   ],
   "source": [
    "dd = np.ones((4,6))\n",
    "print(dd)\n",
    "print ( \"THE TYPE IS\" , type(dd) )"
   ]
  },
  {
   "cell_type": "code",
   "execution_count": 5,
   "id": "b10bbd5f",
   "metadata": {},
   "outputs": [
    {
     "name": "stdout",
     "output_type": "stream",
     "text": [
      "[[1. 0. 0. 0.]\n",
      " [0. 1. 0. 0.]\n",
      " [0. 0. 1. 0.]\n",
      " [0. 0. 0. 1.]]\n",
      "THE TYPE IS <class 'numpy.ndarray'>\n",
      "THE DIMENSION OF ARRAY IS 2\n"
     ]
    }
   ],
   "source": [
    "ee = np.identity(4)\n",
    "print(ee)\n",
    "print ( \"THE TYPE IS\" , type(ee) )"
   ]
  },
  {
   "cell_type": "code",
   "execution_count": 6,
   "id": "0052a66f",
   "metadata": {},
   "outputs": [
    {
     "name": "stdout",
     "output_type": "stream",
     "text": [
      "[ 0  1  2  3  4  5  6  7  8  9 10]\n",
      "THE TYPE IS <class 'numpy.ndarray'>\n",
      "THE DIMENSION OF ARRAY IS 1\n"
     ]
    }
   ],
   "source": [
    "ff = np.arange(11)\n",
    "print(ff)\n",
    "print ( \"THE TYPE IS\" , type(ff) )"
   ]
  },
  {
   "cell_type": "code",
   "execution_count": 7,
   "id": "ade9328c",
   "metadata": {},
   "outputs": [
    {
     "name": "stdout",
     "output_type": "stream",
     "text": [
      "[11 12 13 14 15 16 17 18 19 20]\n",
      "THE TYPE IS <class 'numpy.ndarray'>\n",
      "THE DIMENSION OF ARRAY IS 1\n"
     ]
    }
   ],
   "source": [
    "gg = np.arange(11,21)\n",
    "print(gg)\n",
    "print ( \"THE TYPE IS\" , type(gg) )"
   ]
  },
  {
   "cell_type": "code",
   "execution_count": 8,
   "id": "29c0bbc0",
   "metadata": {},
   "outputs": [
    {
     "name": "stdout",
     "output_type": "stream",
     "text": [
      "[21 23 25 27 29 31 33 35 37 39]\n",
      "THE TYPE IS <class 'numpy.ndarray'>\n",
      "THE DIMENSION OF ARRAY IS 1\n"
     ]
    }
   ],
   "source": [
    "hh = np.arange(21,41,2)\n",
    "print(hh)\n",
    "print ( \"THE TYPE IS\" , type(hh) )"
   ]
  },
  {
   "cell_type": "code",
   "execution_count": 9,
   "id": "b28e7528",
   "metadata": {},
   "outputs": [
    {
     "name": "stdout",
     "output_type": "stream",
     "text": [
      "[-10  -9  -8  -7  -6  -5  -4  -3  -2  -1]\n",
      "THE TYPE IS <class 'numpy.ndarray'>\n",
      "THE DIMENSION OF ARRAY IS 1\n"
     ]
    }
   ],
   "source": [
    "kk = np.arange(-10,0)\n",
    "print(kk)\n",
    "print ( \"THE TYPE IS\" , type(kk) )"
   ]
  },
  {
   "cell_type": "code",
   "execution_count": 10,
   "id": "14579171",
   "metadata": {},
   "outputs": [
    {
     "name": "stdout",
     "output_type": "stream",
     "text": [
      "[21.  21.5 22.  22.5 23.  23.5 24.  24.5 25.  25.5 26.  26.5 27.  27.5\n",
      " 28.  28.5 29.  29.5 30. ]\n",
      "THE TYPE IS <class 'numpy.ndarray'>\n",
      "THE DIMENSION OF ARRAY IS 1\n"
     ]
    }
   ],
   "source": [
    "ll = np.linspace(21,30,19)\n",
    "print(ll)\n",
    "print ( \"THE TYPE IS\" , type(ll) )"
   ]
  },
  {
   "cell_type": "code",
   "execution_count": 11,
   "id": "ee4d20ab",
   "metadata": {},
   "outputs": [
    {
     "name": "stdout",
     "output_type": "stream",
     "text": [
      "[ 0.  6. 12. 18. 24. 30. 36. 42. 48. 54. 60. 66. 72. 78. 84. 90. 96.]\n",
      "THE TYPE IS <class 'numpy.ndarray'>\n",
      "THE DIMENSION OF ARRAY IS 1\n"
     ]
    }
   ],
   "source": [
    "mm = np.linspace(0,96,17)\n",
    "print(mm)\n",
    "print ( \"THE TYPE IS\" , type(mm) )"
   ]
  },
  {
   "cell_type": "code",
   "execution_count": 12,
   "id": "0c4d2cca",
   "metadata": {},
   "outputs": [
    {
     "name": "stdout",
     "output_type": "stream",
     "text": [
      "[ 0.  6. 12. 18. 24. 30. 36. 42. 48. 54. 60. 66. 72. 78. 84. 90. 96.]\n",
      "THE TYPE IS <class 'numpy.ndarray'>\n",
      "THE DIMENSION OF ARRAY IS 1\n"
     ]
    }
   ],
   "source": [
    "nn = mm.copy()\n",
    "print(nn)\n",
    "print ( \"THE TYPE IS\" , type(nn) )"
   ]
  },
  {
   "cell_type": "code",
   "execution_count": null,
   "id": "e954a375",
   "metadata": {},
   "outputs": [],
   "source": []
  }
 ],
 "metadata": {
  "kernelspec": {
   "display_name": "Python 3 (ipykernel)",
   "language": "python",
   "name": "python3"
  },
  "language_info": {
   "codemirror_mode": {
    "name": "ipython",
    "version": 3
   },
   "file_extension": ".py",
   "mimetype": "text/x-python",
   "name": "python",
   "nbconvert_exporter": "python",
   "pygments_lexer": "ipython3",
   "version": "3.10.9"
  }
 },
 "nbformat": 4,
 "nbformat_minor": 5
}
